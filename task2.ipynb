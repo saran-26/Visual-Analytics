{
 "cells": [
  {
   "cell_type": "markdown",
   "id": "9dd2e727",
   "metadata": {},
   "source": [
    "# Business Intelligence Dashboard for Decision-Making\n",
    "\n",
    "This notebook simulates a real-world scenario where a business needs a dashboard to make strategic decisions based on data. The approach and visualizations are inspired by BI tools like Power BI and Tableau, focusing on interactivity, KPI visualization, and actionable insights."
   ]
  },
  {
   "cell_type": "markdown",
   "id": "75164bd8",
   "metadata": {},
   "source": [
    "## Scenario & Dataset\n",
    "We use a real-world health dataset (as a stand-in for a business dataset) with multiple attributes (demographics, health metrics, outcomes). In a true business context, this could be sales, customer reviews, or performance metrics across regions and time."
   ]
  },
  {
   "cell_type": "markdown",
   "id": "c17fd638",
   "metadata": {},
   "source": [
    "## Key Business Questions\n",
    "1. Which work type (or segment) has the highest stroke rate (risk)?\n",
    "2. How does average glucose level (as a health KPI) vary by residence type (urban/rural)?\n",
    "3. What is the distribution of BMI by smoking status (lifestyle impact)?\n",
    "4. What is the gender distribution among stroke patients (demographic risk)?\n",
    "\n",
    "These questions simulate typical business KPIs: segment performance, regional differences, lifestyle/customer behavior, and demographic analysis."
   ]
  },
  {
   "cell_type": "markdown",
   "id": "d24ab3f4",
   "metadata": {},
   "source": [
    "## BI Dashboard Features (Power BI/Tableau Style)\n",
    "- **Filters/Slicers:** In Power BI/Tableau, users can filter by work type, gender, or residence type. In this notebook, you can filter using pandas before plotting.\n",
    "- **Drill-down:** You can group by different columns to simulate drill-down (e.g., stroke rate by work type and gender).\n",
    "- **Interactivity:** Plotly charts are interactive (hover, zoom, select).\n",
    "- **Justification:** Each visualization is chosen to answer a business question and support decision-making."
   ]
  },
  {
   "cell_type": "code",
   "execution_count": 1,
   "id": "1818b558",
   "metadata": {},
   "outputs": [
    {
     "name": "stdout",
     "output_type": "stream",
     "text": [
      "Requirement already satisfied: plotly in c:\\users\\krish\\appdata\\local\\programs\\python\\python312\\lib\\site-packages (6.0.1)\n",
      "Requirement already satisfied: narwhals>=1.15.1 in c:\\users\\krish\\appdata\\local\\programs\\python\\python312\\lib\\site-packages (from plotly) (1.37.1)\n",
      "Requirement already satisfied: packaging in c:\\users\\krish\\appdata\\local\\programs\\python\\python312\\lib\\site-packages (from plotly) (24.2)\n"
     ]
    }
   ],
   "source": [
    "# Step 1: Install Plotly (if not already installed)\n",
    "!pip install plotly"
   ]
  },
  {
   "cell_type": "markdown",
   "id": "bf1dcb6e",
   "metadata": {},
   "source": [
    "## Import Required Libraries"
   ]
  },
  {
   "cell_type": "code",
   "execution_count": 2,
   "id": "83f4a0af",
   "metadata": {},
   "outputs": [],
   "source": [
    "import pandas as pd\n",
    "import plotly.express as px"
   ]
  },
  {
   "cell_type": "markdown",
   "id": "b77d6b16",
   "metadata": {},
   "source": [
    "## Load and Preview the Dataset"
   ]
  },
  {
   "cell_type": "code",
   "execution_count": 3,
   "id": "ff86e1db",
   "metadata": {},
   "outputs": [
    {
     "data": {
      "application/vnd.microsoft.datawrangler.viewer.v0+json": {
       "columns": [
        {
         "name": "index",
         "rawType": "int64",
         "type": "integer"
        },
        {
         "name": "id",
         "rawType": "int64",
         "type": "integer"
        },
        {
         "name": "gender",
         "rawType": "object",
         "type": "string"
        },
        {
         "name": "age",
         "rawType": "float64",
         "type": "float"
        },
        {
         "name": "hypertension",
         "rawType": "int64",
         "type": "integer"
        },
        {
         "name": "heart_disease",
         "rawType": "int64",
         "type": "integer"
        },
        {
         "name": "ever_married",
         "rawType": "object",
         "type": "string"
        },
        {
         "name": "work_type",
         "rawType": "object",
         "type": "string"
        },
        {
         "name": "Residence_type",
         "rawType": "object",
         "type": "string"
        },
        {
         "name": "avg_glucose_level",
         "rawType": "float64",
         "type": "float"
        },
        {
         "name": "bmi",
         "rawType": "float64",
         "type": "float"
        },
        {
         "name": "smoking_status",
         "rawType": "object",
         "type": "string"
        },
        {
         "name": "stroke",
         "rawType": "int64",
         "type": "integer"
        }
       ],
       "conversionMethod": "pd.DataFrame",
       "ref": "68e8b75c-b7e0-425f-a83b-5dfab3722e33",
       "rows": [
        [
         "0",
         "9046",
         "Male",
         "67.0",
         "0",
         "1",
         "Yes",
         "Private",
         "Urban",
         "228.69",
         "36.6",
         "formerly smoked",
         "1"
        ],
        [
         "1",
         "51676",
         "Female",
         "61.0",
         "0",
         "0",
         "Yes",
         "Self-employed",
         "Rural",
         "202.21",
         null,
         "never smoked",
         "1"
        ],
        [
         "2",
         "31112",
         "Male",
         "80.0",
         "0",
         "1",
         "Yes",
         "Private",
         "Rural",
         "105.92",
         "32.5",
         "never smoked",
         "1"
        ],
        [
         "3",
         "60182",
         "Female",
         "49.0",
         "0",
         "0",
         "Yes",
         "Private",
         "Urban",
         "171.23",
         "34.4",
         "smokes",
         "1"
        ],
        [
         "4",
         "1665",
         "Female",
         "79.0",
         "1",
         "0",
         "Yes",
         "Self-employed",
         "Rural",
         "174.12",
         "24.0",
         "never smoked",
         "1"
        ]
       ],
       "shape": {
        "columns": 12,
        "rows": 5
       }
      },
      "text/html": [
       "<div>\n",
       "<style scoped>\n",
       "    .dataframe tbody tr th:only-of-type {\n",
       "        vertical-align: middle;\n",
       "    }\n",
       "\n",
       "    .dataframe tbody tr th {\n",
       "        vertical-align: top;\n",
       "    }\n",
       "\n",
       "    .dataframe thead th {\n",
       "        text-align: right;\n",
       "    }\n",
       "</style>\n",
       "<table border=\"1\" class=\"dataframe\">\n",
       "  <thead>\n",
       "    <tr style=\"text-align: right;\">\n",
       "      <th></th>\n",
       "      <th>id</th>\n",
       "      <th>gender</th>\n",
       "      <th>age</th>\n",
       "      <th>hypertension</th>\n",
       "      <th>heart_disease</th>\n",
       "      <th>ever_married</th>\n",
       "      <th>work_type</th>\n",
       "      <th>Residence_type</th>\n",
       "      <th>avg_glucose_level</th>\n",
       "      <th>bmi</th>\n",
       "      <th>smoking_status</th>\n",
       "      <th>stroke</th>\n",
       "    </tr>\n",
       "  </thead>\n",
       "  <tbody>\n",
       "    <tr>\n",
       "      <th>0</th>\n",
       "      <td>9046</td>\n",
       "      <td>Male</td>\n",
       "      <td>67.0</td>\n",
       "      <td>0</td>\n",
       "      <td>1</td>\n",
       "      <td>Yes</td>\n",
       "      <td>Private</td>\n",
       "      <td>Urban</td>\n",
       "      <td>228.69</td>\n",
       "      <td>36.6</td>\n",
       "      <td>formerly smoked</td>\n",
       "      <td>1</td>\n",
       "    </tr>\n",
       "    <tr>\n",
       "      <th>1</th>\n",
       "      <td>51676</td>\n",
       "      <td>Female</td>\n",
       "      <td>61.0</td>\n",
       "      <td>0</td>\n",
       "      <td>0</td>\n",
       "      <td>Yes</td>\n",
       "      <td>Self-employed</td>\n",
       "      <td>Rural</td>\n",
       "      <td>202.21</td>\n",
       "      <td>NaN</td>\n",
       "      <td>never smoked</td>\n",
       "      <td>1</td>\n",
       "    </tr>\n",
       "    <tr>\n",
       "      <th>2</th>\n",
       "      <td>31112</td>\n",
       "      <td>Male</td>\n",
       "      <td>80.0</td>\n",
       "      <td>0</td>\n",
       "      <td>1</td>\n",
       "      <td>Yes</td>\n",
       "      <td>Private</td>\n",
       "      <td>Rural</td>\n",
       "      <td>105.92</td>\n",
       "      <td>32.5</td>\n",
       "      <td>never smoked</td>\n",
       "      <td>1</td>\n",
       "    </tr>\n",
       "    <tr>\n",
       "      <th>3</th>\n",
       "      <td>60182</td>\n",
       "      <td>Female</td>\n",
       "      <td>49.0</td>\n",
       "      <td>0</td>\n",
       "      <td>0</td>\n",
       "      <td>Yes</td>\n",
       "      <td>Private</td>\n",
       "      <td>Urban</td>\n",
       "      <td>171.23</td>\n",
       "      <td>34.4</td>\n",
       "      <td>smokes</td>\n",
       "      <td>1</td>\n",
       "    </tr>\n",
       "    <tr>\n",
       "      <th>4</th>\n",
       "      <td>1665</td>\n",
       "      <td>Female</td>\n",
       "      <td>79.0</td>\n",
       "      <td>1</td>\n",
       "      <td>0</td>\n",
       "      <td>Yes</td>\n",
       "      <td>Self-employed</td>\n",
       "      <td>Rural</td>\n",
       "      <td>174.12</td>\n",
       "      <td>24.0</td>\n",
       "      <td>never smoked</td>\n",
       "      <td>1</td>\n",
       "    </tr>\n",
       "  </tbody>\n",
       "</table>\n",
       "</div>"
      ],
      "text/plain": [
       "      id  gender   age  hypertension  heart_disease ever_married  \\\n",
       "0   9046    Male  67.0             0              1          Yes   \n",
       "1  51676  Female  61.0             0              0          Yes   \n",
       "2  31112    Male  80.0             0              1          Yes   \n",
       "3  60182  Female  49.0             0              0          Yes   \n",
       "4   1665  Female  79.0             1              0          Yes   \n",
       "\n",
       "       work_type Residence_type  avg_glucose_level   bmi   smoking_status  \\\n",
       "0        Private          Urban             228.69  36.6  formerly smoked   \n",
       "1  Self-employed          Rural             202.21   NaN     never smoked   \n",
       "2        Private          Rural             105.92  32.5     never smoked   \n",
       "3        Private          Urban             171.23  34.4           smokes   \n",
       "4  Self-employed          Rural             174.12  24.0     never smoked   \n",
       "\n",
       "   stroke  \n",
       "0       1  \n",
       "1       1  \n",
       "2       1  \n",
       "3       1  \n",
       "4       1  "
      ]
     },
     "execution_count": 3,
     "metadata": {},
     "output_type": "execute_result"
    }
   ],
   "source": [
    "df = pd.read_csv('dataset1.csv')\n",
    "df.head()"
   ]
  },
  {
   "cell_type": "markdown",
   "id": "05cbb3f7",
   "metadata": {},
   "source": [
    "## Data Cleaning and Preparation\n",
    "Convert columns to numeric where needed and handle missing values."
   ]
  },
  {
   "cell_type": "code",
   "execution_count": 4,
   "id": "5348cdbd",
   "metadata": {},
   "outputs": [],
   "source": [
    "df['bmi'] = pd.to_numeric(df['bmi'], errors='coerce')\n",
    "df['avg_glucose_level'] = pd.to_numeric(df['avg_glucose_level'], errors='coerce')\n",
    "df['stroke'] = df['stroke'].astype(int)"
   ]
  },
  {
   "cell_type": "markdown",
   "id": "d3916c85",
   "metadata": {},
   "source": [
    "## 1. Stroke Rate by Work Type (with Filter Example)\n",
    "Stakeholders can filter by gender to see if risk varies by gender within each work type."
   ]
  },
  {
   "cell_type": "code",
   "execution_count": 5,
   "id": "e1b76392",
   "metadata": {},
   "outputs": [
    {
     "data": {
      "application/vnd.plotly.v1+json": {
       "config": {
        "plotlyServerURL": "https://plot.ly"
       },
       "data": [
        {
         "hovertemplate": "work_type=%{x}<br>Stroke Rate=%{y}<extra></extra>",
         "legendgroup": "Govt_job",
         "marker": {
          "color": "#636efa",
          "pattern": {
           "shape": ""
          }
         },
         "name": "Govt_job",
         "orientation": "v",
         "showlegend": true,
         "textposition": "auto",
         "type": "bar",
         "x": [
          "Govt_job"
         ],
         "xaxis": "x",
         "y": {
          "bdata": "ONjhYIeDrT8=",
          "dtype": "f8"
         },
         "yaxis": "y"
        },
        {
         "hovertemplate": "work_type=%{x}<br>Stroke Rate=%{y}<extra></extra>",
         "legendgroup": "Never_worked",
         "marker": {
          "color": "#EF553B",
          "pattern": {
           "shape": ""
          }
         },
         "name": "Never_worked",
         "orientation": "v",
         "showlegend": true,
         "textposition": "auto",
         "type": "bar",
         "x": [
          "Never_worked"
         ],
         "xaxis": "x",
         "y": {
          "bdata": "AAAAAAAAAAA=",
          "dtype": "f8"
         },
         "yaxis": "y"
        },
        {
         "hovertemplate": "work_type=%{x}<br>Stroke Rate=%{y}<extra></extra>",
         "legendgroup": "Private",
         "marker": {
          "color": "#00cc96",
          "pattern": {
           "shape": ""
          }
         },
         "name": "Private",
         "orientation": "v",
         "showlegend": true,
         "textposition": "auto",
         "type": "bar",
         "x": [
          "Private"
         ],
         "xaxis": "x",
         "y": {
          "bdata": "d20N2kkvpj8=",
          "dtype": "f8"
         },
         "yaxis": "y"
        },
        {
         "hovertemplate": "work_type=%{x}<br>Stroke Rate=%{y}<extra></extra>",
         "legendgroup": "Self-employed",
         "marker": {
          "color": "#ab63fa",
          "pattern": {
           "shape": ""
          }
         },
         "name": "Self-employed",
         "orientation": "v",
         "showlegend": true,
         "textposition": "auto",
         "type": "bar",
         "x": [
          "Self-employed"
         ],
         "xaxis": "x",
         "y": {
          "bdata": "FEVRFEVRtD8=",
          "dtype": "f8"
         },
         "yaxis": "y"
        },
        {
         "hovertemplate": "work_type=%{x}<br>Stroke Rate=%{y}<extra></extra>",
         "legendgroup": "children",
         "marker": {
          "color": "#FFA15A",
          "pattern": {
           "shape": ""
          }
         },
         "name": "children",
         "orientation": "v",
         "showlegend": true,
         "textposition": "auto",
         "type": "bar",
         "x": [
          "children"
         ],
         "xaxis": "x",
         "y": {
          "bdata": "KeLQSfsgeT8=",
          "dtype": "f8"
         },
         "yaxis": "y"
        }
       ],
       "layout": {
        "barmode": "relative",
        "legend": {
         "title": {
          "text": "work_type"
         },
         "tracegroupgap": 0
        },
        "template": {
         "data": {
          "bar": [
           {
            "error_x": {
             "color": "#2a3f5f"
            },
            "error_y": {
             "color": "#2a3f5f"
            },
            "marker": {
             "line": {
              "color": "#E5ECF6",
              "width": 0.5
             },
             "pattern": {
              "fillmode": "overlay",
              "size": 10,
              "solidity": 0.2
             }
            },
            "type": "bar"
           }
          ],
          "barpolar": [
           {
            "marker": {
             "line": {
              "color": "#E5ECF6",
              "width": 0.5
             },
             "pattern": {
              "fillmode": "overlay",
              "size": 10,
              "solidity": 0.2
             }
            },
            "type": "barpolar"
           }
          ],
          "carpet": [
           {
            "aaxis": {
             "endlinecolor": "#2a3f5f",
             "gridcolor": "white",
             "linecolor": "white",
             "minorgridcolor": "white",
             "startlinecolor": "#2a3f5f"
            },
            "baxis": {
             "endlinecolor": "#2a3f5f",
             "gridcolor": "white",
             "linecolor": "white",
             "minorgridcolor": "white",
             "startlinecolor": "#2a3f5f"
            },
            "type": "carpet"
           }
          ],
          "choropleth": [
           {
            "colorbar": {
             "outlinewidth": 0,
             "ticks": ""
            },
            "type": "choropleth"
           }
          ],
          "contour": [
           {
            "colorbar": {
             "outlinewidth": 0,
             "ticks": ""
            },
            "colorscale": [
             [
              0,
              "#0d0887"
             ],
             [
              0.1111111111111111,
              "#46039f"
             ],
             [
              0.2222222222222222,
              "#7201a8"
             ],
             [
              0.3333333333333333,
              "#9c179e"
             ],
             [
              0.4444444444444444,
              "#bd3786"
             ],
             [
              0.5555555555555556,
              "#d8576b"
             ],
             [
              0.6666666666666666,
              "#ed7953"
             ],
             [
              0.7777777777777778,
              "#fb9f3a"
             ],
             [
              0.8888888888888888,
              "#fdca26"
             ],
             [
              1,
              "#f0f921"
             ]
            ],
            "type": "contour"
           }
          ],
          "contourcarpet": [
           {
            "colorbar": {
             "outlinewidth": 0,
             "ticks": ""
            },
            "type": "contourcarpet"
           }
          ],
          "heatmap": [
           {
            "colorbar": {
             "outlinewidth": 0,
             "ticks": ""
            },
            "colorscale": [
             [
              0,
              "#0d0887"
             ],
             [
              0.1111111111111111,
              "#46039f"
             ],
             [
              0.2222222222222222,
              "#7201a8"
             ],
             [
              0.3333333333333333,
              "#9c179e"
             ],
             [
              0.4444444444444444,
              "#bd3786"
             ],
             [
              0.5555555555555556,
              "#d8576b"
             ],
             [
              0.6666666666666666,
              "#ed7953"
             ],
             [
              0.7777777777777778,
              "#fb9f3a"
             ],
             [
              0.8888888888888888,
              "#fdca26"
             ],
             [
              1,
              "#f0f921"
             ]
            ],
            "type": "heatmap"
           }
          ],
          "histogram": [
           {
            "marker": {
             "pattern": {
              "fillmode": "overlay",
              "size": 10,
              "solidity": 0.2
             }
            },
            "type": "histogram"
           }
          ],
          "histogram2d": [
           {
            "colorbar": {
             "outlinewidth": 0,
             "ticks": ""
            },
            "colorscale": [
             [
              0,
              "#0d0887"
             ],
             [
              0.1111111111111111,
              "#46039f"
             ],
             [
              0.2222222222222222,
              "#7201a8"
             ],
             [
              0.3333333333333333,
              "#9c179e"
             ],
             [
              0.4444444444444444,
              "#bd3786"
             ],
             [
              0.5555555555555556,
              "#d8576b"
             ],
             [
              0.6666666666666666,
              "#ed7953"
             ],
             [
              0.7777777777777778,
              "#fb9f3a"
             ],
             [
              0.8888888888888888,
              "#fdca26"
             ],
             [
              1,
              "#f0f921"
             ]
            ],
            "type": "histogram2d"
           }
          ],
          "histogram2dcontour": [
           {
            "colorbar": {
             "outlinewidth": 0,
             "ticks": ""
            },
            "colorscale": [
             [
              0,
              "#0d0887"
             ],
             [
              0.1111111111111111,
              "#46039f"
             ],
             [
              0.2222222222222222,
              "#7201a8"
             ],
             [
              0.3333333333333333,
              "#9c179e"
             ],
             [
              0.4444444444444444,
              "#bd3786"
             ],
             [
              0.5555555555555556,
              "#d8576b"
             ],
             [
              0.6666666666666666,
              "#ed7953"
             ],
             [
              0.7777777777777778,
              "#fb9f3a"
             ],
             [
              0.8888888888888888,
              "#fdca26"
             ],
             [
              1,
              "#f0f921"
             ]
            ],
            "type": "histogram2dcontour"
           }
          ],
          "mesh3d": [
           {
            "colorbar": {
             "outlinewidth": 0,
             "ticks": ""
            },
            "type": "mesh3d"
           }
          ],
          "parcoords": [
           {
            "line": {
             "colorbar": {
              "outlinewidth": 0,
              "ticks": ""
             }
            },
            "type": "parcoords"
           }
          ],
          "pie": [
           {
            "automargin": true,
            "type": "pie"
           }
          ],
          "scatter": [
           {
            "fillpattern": {
             "fillmode": "overlay",
             "size": 10,
             "solidity": 0.2
            },
            "type": "scatter"
           }
          ],
          "scatter3d": [
           {
            "line": {
             "colorbar": {
              "outlinewidth": 0,
              "ticks": ""
             }
            },
            "marker": {
             "colorbar": {
              "outlinewidth": 0,
              "ticks": ""
             }
            },
            "type": "scatter3d"
           }
          ],
          "scattercarpet": [
           {
            "marker": {
             "colorbar": {
              "outlinewidth": 0,
              "ticks": ""
             }
            },
            "type": "scattercarpet"
           }
          ],
          "scattergeo": [
           {
            "marker": {
             "colorbar": {
              "outlinewidth": 0,
              "ticks": ""
             }
            },
            "type": "scattergeo"
           }
          ],
          "scattergl": [
           {
            "marker": {
             "colorbar": {
              "outlinewidth": 0,
              "ticks": ""
             }
            },
            "type": "scattergl"
           }
          ],
          "scattermap": [
           {
            "marker": {
             "colorbar": {
              "outlinewidth": 0,
              "ticks": ""
             }
            },
            "type": "scattermap"
           }
          ],
          "scattermapbox": [
           {
            "marker": {
             "colorbar": {
              "outlinewidth": 0,
              "ticks": ""
             }
            },
            "type": "scattermapbox"
           }
          ],
          "scatterpolar": [
           {
            "marker": {
             "colorbar": {
              "outlinewidth": 0,
              "ticks": ""
             }
            },
            "type": "scatterpolar"
           }
          ],
          "scatterpolargl": [
           {
            "marker": {
             "colorbar": {
              "outlinewidth": 0,
              "ticks": ""
             }
            },
            "type": "scatterpolargl"
           }
          ],
          "scatterternary": [
           {
            "marker": {
             "colorbar": {
              "outlinewidth": 0,
              "ticks": ""
             }
            },
            "type": "scatterternary"
           }
          ],
          "surface": [
           {
            "colorbar": {
             "outlinewidth": 0,
             "ticks": ""
            },
            "colorscale": [
             [
              0,
              "#0d0887"
             ],
             [
              0.1111111111111111,
              "#46039f"
             ],
             [
              0.2222222222222222,
              "#7201a8"
             ],
             [
              0.3333333333333333,
              "#9c179e"
             ],
             [
              0.4444444444444444,
              "#bd3786"
             ],
             [
              0.5555555555555556,
              "#d8576b"
             ],
             [
              0.6666666666666666,
              "#ed7953"
             ],
             [
              0.7777777777777778,
              "#fb9f3a"
             ],
             [
              0.8888888888888888,
              "#fdca26"
             ],
             [
              1,
              "#f0f921"
             ]
            ],
            "type": "surface"
           }
          ],
          "table": [
           {
            "cells": {
             "fill": {
              "color": "#EBF0F8"
             },
             "line": {
              "color": "white"
             }
            },
            "header": {
             "fill": {
              "color": "#C8D4E3"
             },
             "line": {
              "color": "white"
             }
            },
            "type": "table"
           }
          ]
         },
         "layout": {
          "annotationdefaults": {
           "arrowcolor": "#2a3f5f",
           "arrowhead": 0,
           "arrowwidth": 1
          },
          "autotypenumbers": "strict",
          "coloraxis": {
           "colorbar": {
            "outlinewidth": 0,
            "ticks": ""
           }
          },
          "colorscale": {
           "diverging": [
            [
             0,
             "#8e0152"
            ],
            [
             0.1,
             "#c51b7d"
            ],
            [
             0.2,
             "#de77ae"
            ],
            [
             0.3,
             "#f1b6da"
            ],
            [
             0.4,
             "#fde0ef"
            ],
            [
             0.5,
             "#f7f7f7"
            ],
            [
             0.6,
             "#e6f5d0"
            ],
            [
             0.7,
             "#b8e186"
            ],
            [
             0.8,
             "#7fbc41"
            ],
            [
             0.9,
             "#4d9221"
            ],
            [
             1,
             "#276419"
            ]
           ],
           "sequential": [
            [
             0,
             "#0d0887"
            ],
            [
             0.1111111111111111,
             "#46039f"
            ],
            [
             0.2222222222222222,
             "#7201a8"
            ],
            [
             0.3333333333333333,
             "#9c179e"
            ],
            [
             0.4444444444444444,
             "#bd3786"
            ],
            [
             0.5555555555555556,
             "#d8576b"
            ],
            [
             0.6666666666666666,
             "#ed7953"
            ],
            [
             0.7777777777777778,
             "#fb9f3a"
            ],
            [
             0.8888888888888888,
             "#fdca26"
            ],
            [
             1,
             "#f0f921"
            ]
           ],
           "sequentialminus": [
            [
             0,
             "#0d0887"
            ],
            [
             0.1111111111111111,
             "#46039f"
            ],
            [
             0.2222222222222222,
             "#7201a8"
            ],
            [
             0.3333333333333333,
             "#9c179e"
            ],
            [
             0.4444444444444444,
             "#bd3786"
            ],
            [
             0.5555555555555556,
             "#d8576b"
            ],
            [
             0.6666666666666666,
             "#ed7953"
            ],
            [
             0.7777777777777778,
             "#fb9f3a"
            ],
            [
             0.8888888888888888,
             "#fdca26"
            ],
            [
             1,
             "#f0f921"
            ]
           ]
          },
          "colorway": [
           "#636efa",
           "#EF553B",
           "#00cc96",
           "#ab63fa",
           "#FFA15A",
           "#19d3f3",
           "#FF6692",
           "#B6E880",
           "#FF97FF",
           "#FECB52"
          ],
          "font": {
           "color": "#2a3f5f"
          },
          "geo": {
           "bgcolor": "white",
           "lakecolor": "white",
           "landcolor": "#E5ECF6",
           "showlakes": true,
           "showland": true,
           "subunitcolor": "white"
          },
          "hoverlabel": {
           "align": "left"
          },
          "hovermode": "closest",
          "mapbox": {
           "style": "light"
          },
          "paper_bgcolor": "white",
          "plot_bgcolor": "#E5ECF6",
          "polar": {
           "angularaxis": {
            "gridcolor": "white",
            "linecolor": "white",
            "ticks": ""
           },
           "bgcolor": "#E5ECF6",
           "radialaxis": {
            "gridcolor": "white",
            "linecolor": "white",
            "ticks": ""
           }
          },
          "scene": {
           "xaxis": {
            "backgroundcolor": "#E5ECF6",
            "gridcolor": "white",
            "gridwidth": 2,
            "linecolor": "white",
            "showbackground": true,
            "ticks": "",
            "zerolinecolor": "white"
           },
           "yaxis": {
            "backgroundcolor": "#E5ECF6",
            "gridcolor": "white",
            "gridwidth": 2,
            "linecolor": "white",
            "showbackground": true,
            "ticks": "",
            "zerolinecolor": "white"
           },
           "zaxis": {
            "backgroundcolor": "#E5ECF6",
            "gridcolor": "white",
            "gridwidth": 2,
            "linecolor": "white",
            "showbackground": true,
            "ticks": "",
            "zerolinecolor": "white"
           }
          },
          "shapedefaults": {
           "line": {
            "color": "#2a3f5f"
           }
          },
          "ternary": {
           "aaxis": {
            "gridcolor": "white",
            "linecolor": "white",
            "ticks": ""
           },
           "baxis": {
            "gridcolor": "white",
            "linecolor": "white",
            "ticks": ""
           },
           "bgcolor": "#E5ECF6",
           "caxis": {
            "gridcolor": "white",
            "linecolor": "white",
            "ticks": ""
           }
          },
          "title": {
           "x": 0.05
          },
          "xaxis": {
           "automargin": true,
           "gridcolor": "white",
           "linecolor": "white",
           "ticks": "",
           "title": {
            "standoff": 15
           },
           "zerolinecolor": "white",
           "zerolinewidth": 2
          },
          "yaxis": {
           "automargin": true,
           "gridcolor": "white",
           "linecolor": "white",
           "ticks": "",
           "title": {
            "standoff": 15
           },
           "zerolinecolor": "white",
           "zerolinewidth": 2
          }
         }
        },
        "title": {
         "text": "Stroke Rate by Work Type (Females)"
        },
        "xaxis": {
         "anchor": "y",
         "categoryarray": [
          "Govt_job",
          "Never_worked",
          "Private",
          "Self-employed",
          "children"
         ],
         "categoryorder": "array",
         "domain": [
          0,
          1
         ],
         "title": {
          "text": "work_type"
         }
        },
        "yaxis": {
         "anchor": "x",
         "domain": [
          0,
          1
         ],
         "title": {
          "text": "Stroke Rate"
         }
        }
       }
      }
     },
     "metadata": {},
     "output_type": "display_data"
    }
   ],
   "source": [
    "# Example filter: Only females\n",
    "df_female = df[df['gender'] == 'Female']\n",
    "stroke_by_work = df_female.groupby('work_type')['stroke'].mean().reset_index()\n",
    "fig1 = px.bar(stroke_by_work, x='work_type', y='stroke', color='work_type',\n",
    "              title='Stroke Rate by Work Type (Females)', labels={'stroke': 'Stroke Rate'})\n",
    "fig1.show()"
   ]
  },
  {
   "cell_type": "markdown",
   "id": "2c75ba24",
   "metadata": {},
   "source": [
    "**Justification:** Bar charts are ideal for comparing categorical KPIs. Stakeholders can quickly see which work type is at highest risk and filter by gender for deeper insight."
   ]
  },
  {
   "cell_type": "markdown",
   "id": "85b7269d",
   "metadata": {},
   "source": [
    "## 2. Average Glucose Level by Residence Type (with Drill-Down)\n",
    "Stakeholders can drill down by work type or age group to see if urban/rural differences persist across segments."
   ]
  },
  {
   "cell_type": "code",
   "execution_count": 6,
   "id": "d5169587",
   "metadata": {},
   "outputs": [
    {
     "data": {
      "application/vnd.plotly.v1+json": {
       "config": {
        "plotlyServerURL": "https://plot.ly"
       },
       "data": [
        {
         "alignmentgroup": "True",
         "hovertemplate": "work_type=Govt_job<br>Residence_type=%{x}<br>avg_glucose_level=%{y}<extra></extra>",
         "legendgroup": "Govt_job",
         "marker": {
          "color": "#636efa",
          "pattern": {
           "shape": ""
          }
         },
         "name": "Govt_job",
         "offsetgroup": "Govt_job",
         "orientation": "v",
         "showlegend": true,
         "textposition": "auto",
         "type": "bar",
         "x": [
          "Rural",
          "Urban"
         ],
         "xaxis": "x",
         "y": {
          "bdata": "IvP+u4ymWkABfA6YDTZbQA==",
          "dtype": "f8"
         },
         "yaxis": "y"
        },
        {
         "alignmentgroup": "True",
         "hovertemplate": "work_type=Never_worked<br>Residence_type=%{x}<br>avg_glucose_level=%{y}<extra></extra>",
         "legendgroup": "Never_worked",
         "marker": {
          "color": "#EF553B",
          "pattern": {
           "shape": ""
          }
         },
         "name": "Never_worked",
         "offsetgroup": "Never_worked",
         "orientation": "v",
         "showlegend": true,
         "textposition": "auto",
         "type": "bar",
         "x": [
          "Rural",
          "Urban"
         ],
         "xaxis": "x",
         "y": {
          "bdata": "gdhUGnLOWEDL6G1Zq6NXQA==",
          "dtype": "f8"
         },
         "yaxis": "y"
        },
        {
         "alignmentgroup": "True",
         "hovertemplate": "work_type=Private<br>Residence_type=%{x}<br>avg_glucose_level=%{y}<extra></extra>",
         "legendgroup": "Private",
         "marker": {
          "color": "#00cc96",
          "pattern": {
           "shape": ""
          }
         },
         "name": "Private",
         "offsetgroup": "Private",
         "orientation": "v",
         "showlegend": true,
         "textposition": "auto",
         "type": "bar",
         "x": [
          "Rural",
          "Urban"
         ],
         "xaxis": "x",
         "y": {
          "bdata": "6FZsLhqhWkANGZuv4cRaQA==",
          "dtype": "f8"
         },
         "yaxis": "y"
        },
        {
         "alignmentgroup": "True",
         "hovertemplate": "work_type=Self-employed<br>Residence_type=%{x}<br>avg_glucose_level=%{y}<extra></extra>",
         "legendgroup": "Self-employed",
         "marker": {
          "color": "#ab63fa",
          "pattern": {
           "shape": ""
          }
         },
         "name": "Self-employed",
         "offsetgroup": "Self-employed",
         "orientation": "v",
         "showlegend": true,
         "textposition": "auto",
         "type": "bar",
         "x": [
          "Rural",
          "Urban"
         ],
         "xaxis": "x",
         "y": {
          "bdata": "d+uTs5SlXEAZpoW0qbZbQA==",
          "dtype": "f8"
         },
         "yaxis": "y"
        },
        {
         "alignmentgroup": "True",
         "hovertemplate": "work_type=children<br>Residence_type=%{x}<br>avg_glucose_level=%{y}<extra></extra>",
         "legendgroup": "children",
         "marker": {
          "color": "#FFA15A",
          "pattern": {
           "shape": ""
          }
         },
         "name": "children",
         "offsetgroup": "children",
         "orientation": "v",
         "showlegend": true,
         "textposition": "auto",
         "type": "bar",
         "x": [
          "Rural",
          "Urban"
         ],
         "xaxis": "x",
         "y": {
          "bdata": "sdk1xYcNWECW24UYCyhXQA==",
          "dtype": "f8"
         },
         "yaxis": "y"
        }
       ],
       "layout": {
        "barmode": "group",
        "legend": {
         "title": {
          "text": "work_type"
         },
         "tracegroupgap": 0
        },
        "template": {
         "data": {
          "bar": [
           {
            "error_x": {
             "color": "#2a3f5f"
            },
            "error_y": {
             "color": "#2a3f5f"
            },
            "marker": {
             "line": {
              "color": "#E5ECF6",
              "width": 0.5
             },
             "pattern": {
              "fillmode": "overlay",
              "size": 10,
              "solidity": 0.2
             }
            },
            "type": "bar"
           }
          ],
          "barpolar": [
           {
            "marker": {
             "line": {
              "color": "#E5ECF6",
              "width": 0.5
             },
             "pattern": {
              "fillmode": "overlay",
              "size": 10,
              "solidity": 0.2
             }
            },
            "type": "barpolar"
           }
          ],
          "carpet": [
           {
            "aaxis": {
             "endlinecolor": "#2a3f5f",
             "gridcolor": "white",
             "linecolor": "white",
             "minorgridcolor": "white",
             "startlinecolor": "#2a3f5f"
            },
            "baxis": {
             "endlinecolor": "#2a3f5f",
             "gridcolor": "white",
             "linecolor": "white",
             "minorgridcolor": "white",
             "startlinecolor": "#2a3f5f"
            },
            "type": "carpet"
           }
          ],
          "choropleth": [
           {
            "colorbar": {
             "outlinewidth": 0,
             "ticks": ""
            },
            "type": "choropleth"
           }
          ],
          "contour": [
           {
            "colorbar": {
             "outlinewidth": 0,
             "ticks": ""
            },
            "colorscale": [
             [
              0,
              "#0d0887"
             ],
             [
              0.1111111111111111,
              "#46039f"
             ],
             [
              0.2222222222222222,
              "#7201a8"
             ],
             [
              0.3333333333333333,
              "#9c179e"
             ],
             [
              0.4444444444444444,
              "#bd3786"
             ],
             [
              0.5555555555555556,
              "#d8576b"
             ],
             [
              0.6666666666666666,
              "#ed7953"
             ],
             [
              0.7777777777777778,
              "#fb9f3a"
             ],
             [
              0.8888888888888888,
              "#fdca26"
             ],
             [
              1,
              "#f0f921"
             ]
            ],
            "type": "contour"
           }
          ],
          "contourcarpet": [
           {
            "colorbar": {
             "outlinewidth": 0,
             "ticks": ""
            },
            "type": "contourcarpet"
           }
          ],
          "heatmap": [
           {
            "colorbar": {
             "outlinewidth": 0,
             "ticks": ""
            },
            "colorscale": [
             [
              0,
              "#0d0887"
             ],
             [
              0.1111111111111111,
              "#46039f"
             ],
             [
              0.2222222222222222,
              "#7201a8"
             ],
             [
              0.3333333333333333,
              "#9c179e"
             ],
             [
              0.4444444444444444,
              "#bd3786"
             ],
             [
              0.5555555555555556,
              "#d8576b"
             ],
             [
              0.6666666666666666,
              "#ed7953"
             ],
             [
              0.7777777777777778,
              "#fb9f3a"
             ],
             [
              0.8888888888888888,
              "#fdca26"
             ],
             [
              1,
              "#f0f921"
             ]
            ],
            "type": "heatmap"
           }
          ],
          "histogram": [
           {
            "marker": {
             "pattern": {
              "fillmode": "overlay",
              "size": 10,
              "solidity": 0.2
             }
            },
            "type": "histogram"
           }
          ],
          "histogram2d": [
           {
            "colorbar": {
             "outlinewidth": 0,
             "ticks": ""
            },
            "colorscale": [
             [
              0,
              "#0d0887"
             ],
             [
              0.1111111111111111,
              "#46039f"
             ],
             [
              0.2222222222222222,
              "#7201a8"
             ],
             [
              0.3333333333333333,
              "#9c179e"
             ],
             [
              0.4444444444444444,
              "#bd3786"
             ],
             [
              0.5555555555555556,
              "#d8576b"
             ],
             [
              0.6666666666666666,
              "#ed7953"
             ],
             [
              0.7777777777777778,
              "#fb9f3a"
             ],
             [
              0.8888888888888888,
              "#fdca26"
             ],
             [
              1,
              "#f0f921"
             ]
            ],
            "type": "histogram2d"
           }
          ],
          "histogram2dcontour": [
           {
            "colorbar": {
             "outlinewidth": 0,
             "ticks": ""
            },
            "colorscale": [
             [
              0,
              "#0d0887"
             ],
             [
              0.1111111111111111,
              "#46039f"
             ],
             [
              0.2222222222222222,
              "#7201a8"
             ],
             [
              0.3333333333333333,
              "#9c179e"
             ],
             [
              0.4444444444444444,
              "#bd3786"
             ],
             [
              0.5555555555555556,
              "#d8576b"
             ],
             [
              0.6666666666666666,
              "#ed7953"
             ],
             [
              0.7777777777777778,
              "#fb9f3a"
             ],
             [
              0.8888888888888888,
              "#fdca26"
             ],
             [
              1,
              "#f0f921"
             ]
            ],
            "type": "histogram2dcontour"
           }
          ],
          "mesh3d": [
           {
            "colorbar": {
             "outlinewidth": 0,
             "ticks": ""
            },
            "type": "mesh3d"
           }
          ],
          "parcoords": [
           {
            "line": {
             "colorbar": {
              "outlinewidth": 0,
              "ticks": ""
             }
            },
            "type": "parcoords"
           }
          ],
          "pie": [
           {
            "automargin": true,
            "type": "pie"
           }
          ],
          "scatter": [
           {
            "fillpattern": {
             "fillmode": "overlay",
             "size": 10,
             "solidity": 0.2
            },
            "type": "scatter"
           }
          ],
          "scatter3d": [
           {
            "line": {
             "colorbar": {
              "outlinewidth": 0,
              "ticks": ""
             }
            },
            "marker": {
             "colorbar": {
              "outlinewidth": 0,
              "ticks": ""
             }
            },
            "type": "scatter3d"
           }
          ],
          "scattercarpet": [
           {
            "marker": {
             "colorbar": {
              "outlinewidth": 0,
              "ticks": ""
             }
            },
            "type": "scattercarpet"
           }
          ],
          "scattergeo": [
           {
            "marker": {
             "colorbar": {
              "outlinewidth": 0,
              "ticks": ""
             }
            },
            "type": "scattergeo"
           }
          ],
          "scattergl": [
           {
            "marker": {
             "colorbar": {
              "outlinewidth": 0,
              "ticks": ""
             }
            },
            "type": "scattergl"
           }
          ],
          "scattermap": [
           {
            "marker": {
             "colorbar": {
              "outlinewidth": 0,
              "ticks": ""
             }
            },
            "type": "scattermap"
           }
          ],
          "scattermapbox": [
           {
            "marker": {
             "colorbar": {
              "outlinewidth": 0,
              "ticks": ""
             }
            },
            "type": "scattermapbox"
           }
          ],
          "scatterpolar": [
           {
            "marker": {
             "colorbar": {
              "outlinewidth": 0,
              "ticks": ""
             }
            },
            "type": "scatterpolar"
           }
          ],
          "scatterpolargl": [
           {
            "marker": {
             "colorbar": {
              "outlinewidth": 0,
              "ticks": ""
             }
            },
            "type": "scatterpolargl"
           }
          ],
          "scatterternary": [
           {
            "marker": {
             "colorbar": {
              "outlinewidth": 0,
              "ticks": ""
             }
            },
            "type": "scatterternary"
           }
          ],
          "surface": [
           {
            "colorbar": {
             "outlinewidth": 0,
             "ticks": ""
            },
            "colorscale": [
             [
              0,
              "#0d0887"
             ],
             [
              0.1111111111111111,
              "#46039f"
             ],
             [
              0.2222222222222222,
              "#7201a8"
             ],
             [
              0.3333333333333333,
              "#9c179e"
             ],
             [
              0.4444444444444444,
              "#bd3786"
             ],
             [
              0.5555555555555556,
              "#d8576b"
             ],
             [
              0.6666666666666666,
              "#ed7953"
             ],
             [
              0.7777777777777778,
              "#fb9f3a"
             ],
             [
              0.8888888888888888,
              "#fdca26"
             ],
             [
              1,
              "#f0f921"
             ]
            ],
            "type": "surface"
           }
          ],
          "table": [
           {
            "cells": {
             "fill": {
              "color": "#EBF0F8"
             },
             "line": {
              "color": "white"
             }
            },
            "header": {
             "fill": {
              "color": "#C8D4E3"
             },
             "line": {
              "color": "white"
             }
            },
            "type": "table"
           }
          ]
         },
         "layout": {
          "annotationdefaults": {
           "arrowcolor": "#2a3f5f",
           "arrowhead": 0,
           "arrowwidth": 1
          },
          "autotypenumbers": "strict",
          "coloraxis": {
           "colorbar": {
            "outlinewidth": 0,
            "ticks": ""
           }
          },
          "colorscale": {
           "diverging": [
            [
             0,
             "#8e0152"
            ],
            [
             0.1,
             "#c51b7d"
            ],
            [
             0.2,
             "#de77ae"
            ],
            [
             0.3,
             "#f1b6da"
            ],
            [
             0.4,
             "#fde0ef"
            ],
            [
             0.5,
             "#f7f7f7"
            ],
            [
             0.6,
             "#e6f5d0"
            ],
            [
             0.7,
             "#b8e186"
            ],
            [
             0.8,
             "#7fbc41"
            ],
            [
             0.9,
             "#4d9221"
            ],
            [
             1,
             "#276419"
            ]
           ],
           "sequential": [
            [
             0,
             "#0d0887"
            ],
            [
             0.1111111111111111,
             "#46039f"
            ],
            [
             0.2222222222222222,
             "#7201a8"
            ],
            [
             0.3333333333333333,
             "#9c179e"
            ],
            [
             0.4444444444444444,
             "#bd3786"
            ],
            [
             0.5555555555555556,
             "#d8576b"
            ],
            [
             0.6666666666666666,
             "#ed7953"
            ],
            [
             0.7777777777777778,
             "#fb9f3a"
            ],
            [
             0.8888888888888888,
             "#fdca26"
            ],
            [
             1,
             "#f0f921"
            ]
           ],
           "sequentialminus": [
            [
             0,
             "#0d0887"
            ],
            [
             0.1111111111111111,
             "#46039f"
            ],
            [
             0.2222222222222222,
             "#7201a8"
            ],
            [
             0.3333333333333333,
             "#9c179e"
            ],
            [
             0.4444444444444444,
             "#bd3786"
            ],
            [
             0.5555555555555556,
             "#d8576b"
            ],
            [
             0.6666666666666666,
             "#ed7953"
            ],
            [
             0.7777777777777778,
             "#fb9f3a"
            ],
            [
             0.8888888888888888,
             "#fdca26"
            ],
            [
             1,
             "#f0f921"
            ]
           ]
          },
          "colorway": [
           "#636efa",
           "#EF553B",
           "#00cc96",
           "#ab63fa",
           "#FFA15A",
           "#19d3f3",
           "#FF6692",
           "#B6E880",
           "#FF97FF",
           "#FECB52"
          ],
          "font": {
           "color": "#2a3f5f"
          },
          "geo": {
           "bgcolor": "white",
           "lakecolor": "white",
           "landcolor": "#E5ECF6",
           "showlakes": true,
           "showland": true,
           "subunitcolor": "white"
          },
          "hoverlabel": {
           "align": "left"
          },
          "hovermode": "closest",
          "mapbox": {
           "style": "light"
          },
          "paper_bgcolor": "white",
          "plot_bgcolor": "#E5ECF6",
          "polar": {
           "angularaxis": {
            "gridcolor": "white",
            "linecolor": "white",
            "ticks": ""
           },
           "bgcolor": "#E5ECF6",
           "radialaxis": {
            "gridcolor": "white",
            "linecolor": "white",
            "ticks": ""
           }
          },
          "scene": {
           "xaxis": {
            "backgroundcolor": "#E5ECF6",
            "gridcolor": "white",
            "gridwidth": 2,
            "linecolor": "white",
            "showbackground": true,
            "ticks": "",
            "zerolinecolor": "white"
           },
           "yaxis": {
            "backgroundcolor": "#E5ECF6",
            "gridcolor": "white",
            "gridwidth": 2,
            "linecolor": "white",
            "showbackground": true,
            "ticks": "",
            "zerolinecolor": "white"
           },
           "zaxis": {
            "backgroundcolor": "#E5ECF6",
            "gridcolor": "white",
            "gridwidth": 2,
            "linecolor": "white",
            "showbackground": true,
            "ticks": "",
            "zerolinecolor": "white"
           }
          },
          "shapedefaults": {
           "line": {
            "color": "#2a3f5f"
           }
          },
          "ternary": {
           "aaxis": {
            "gridcolor": "white",
            "linecolor": "white",
            "ticks": ""
           },
           "baxis": {
            "gridcolor": "white",
            "linecolor": "white",
            "ticks": ""
           },
           "bgcolor": "#E5ECF6",
           "caxis": {
            "gridcolor": "white",
            "linecolor": "white",
            "ticks": ""
           }
          },
          "title": {
           "x": 0.05
          },
          "xaxis": {
           "automargin": true,
           "gridcolor": "white",
           "linecolor": "white",
           "ticks": "",
           "title": {
            "standoff": 15
           },
           "zerolinecolor": "white",
           "zerolinewidth": 2
          },
          "yaxis": {
           "automargin": true,
           "gridcolor": "white",
           "linecolor": "white",
           "ticks": "",
           "title": {
            "standoff": 15
           },
           "zerolinecolor": "white",
           "zerolinewidth": 2
          }
         }
        },
        "title": {
         "text": "Average Glucose Level by Residence Type and Work Type"
        },
        "xaxis": {
         "anchor": "y",
         "domain": [
          0,
          1
         ],
         "title": {
          "text": "Residence_type"
         }
        },
        "yaxis": {
         "anchor": "x",
         "domain": [
          0,
          1
         ],
         "title": {
          "text": "avg_glucose_level"
         }
        }
       }
      }
     },
     "metadata": {},
     "output_type": "display_data"
    }
   ],
   "source": [
    "glucose_by_res = df.groupby(['Residence_type', 'work_type'])['avg_glucose_level'].mean().reset_index()\n",
    "fig2 = px.bar(glucose_by_res, x='Residence_type', y='avg_glucose_level', color='work_type', barmode='group',\n",
    "              title='Average Glucose Level by Residence Type and Work Type')\n",
    "fig2.show()"
   ]
  },
  {
   "cell_type": "markdown",
   "id": "a1816136",
   "metadata": {},
   "source": [
    "**Justification:** Grouped bar charts allow for drill-down analysis, helping stakeholders identify if certain segments (e.g., urban self-employed) have higher risk."
   ]
  },
  {
   "cell_type": "markdown",
   "id": "af1fee44",
   "metadata": {},
   "source": [
    "## 3. BMI Distribution by Smoking Status (with Slicer Example)\n",
    "Stakeholders can use a slicer to focus on a specific age group or gender."
   ]
  },
  {
   "cell_type": "code",
   "execution_count": 7,
   "id": "32704bf9",
   "metadata": {},
   "outputs": [
    {
     "data": {
      "application/vnd.plotly.v1+json": {
       "config": {
        "plotlyServerURL": "https://plot.ly"
       },
       "data": [
        {
         "alignmentgroup": "True",
         "hovertemplate": "smoking_status=%{x}<br>bmi=%{y}<extra></extra>",
         "legendgroup": "formerly smoked",
         "marker": {
          "color": "#636efa"
         },
         "name": "formerly smoked",
         "notched": false,
         "offsetgroup": "formerly smoked",
         "orientation": "v",
         "showlegend": true,
         "type": "box",
         "x": [
          "formerly smoked",
          "formerly smoked",
          "formerly smoked",
          "formerly smoked",
          "formerly smoked",
          "formerly smoked",
          "formerly smoked",
          "formerly smoked",
          "formerly smoked",
          "formerly smoked",
          "formerly smoked",
          "formerly smoked",
          "formerly smoked",
          "formerly smoked",
          "formerly smoked",
          "formerly smoked",
          "formerly smoked",
          "formerly smoked",
          "formerly smoked",
          "formerly smoked",
          "formerly smoked",
          "formerly smoked",
          "formerly smoked",
          "formerly smoked",
          "formerly smoked",
          "formerly smoked",
          "formerly smoked",
          "formerly smoked",
          "formerly smoked",
          "formerly smoked",
          "formerly smoked",
          "formerly smoked",
          "formerly smoked",
          "formerly smoked",
          "formerly smoked",
          "formerly smoked",
          "formerly smoked",
          "formerly smoked",
          "formerly smoked",
          "formerly smoked",
          "formerly smoked",
          "formerly smoked",
          "formerly smoked",
          "formerly smoked",
          "formerly smoked",
          "formerly smoked",
          "formerly smoked",
          "formerly smoked",
          "formerly smoked",
          "formerly smoked",
          "formerly smoked",
          "formerly smoked",
          "formerly smoked",
          "formerly smoked",
          "formerly smoked",
          "formerly smoked",
          "formerly smoked",
          "formerly smoked",
          "formerly smoked",
          "formerly smoked",
          "formerly smoked",
          "formerly smoked",
          "formerly smoked",
          "formerly smoked",
          "formerly smoked",
          "formerly smoked",
          "formerly smoked",
          "formerly smoked",
          "formerly smoked",
          "formerly smoked",
          "formerly smoked",
          "formerly smoked",
          "formerly smoked",
          "formerly smoked",
          "formerly smoked",
          "formerly smoked",
          "formerly smoked",
          "formerly smoked",
          "formerly smoked",
          "formerly smoked",
          "formerly smoked",
          "formerly smoked",
          "formerly smoked",
          "formerly smoked",
          "formerly smoked",
          "formerly smoked",
          "formerly smoked",
          "formerly smoked",
          "formerly smoked",
          "formerly smoked",
          "formerly smoked",
          "formerly smoked",
          "formerly smoked",
          "formerly smoked",
          "formerly smoked",
          "formerly smoked",
          "formerly smoked",
          "formerly smoked",
          "formerly smoked",
          "formerly smoked",
          "formerly smoked",
          "formerly smoked",
          "formerly smoked",
          "formerly smoked",
          "formerly smoked",
          "formerly smoked",
          "formerly smoked",
          "formerly smoked",
          "formerly smoked",
          "formerly smoked",
          "formerly smoked",
          "formerly smoked",
          "formerly smoked",
          "formerly smoked",
          "formerly smoked",
          "formerly smoked",
          "formerly smoked",
          "formerly smoked",
          "formerly smoked",
          "formerly smoked",
          "formerly smoked",
          "formerly smoked",
          "formerly smoked",
          "formerly smoked",
          "formerly smoked",
          "formerly smoked",
          "formerly smoked",
          "formerly smoked",
          "formerly smoked",
          "formerly smoked",
          "formerly smoked",
          "formerly smoked",
          "formerly smoked",
          "formerly smoked",
          "formerly smoked",
          "formerly smoked",
          "formerly smoked",
          "formerly smoked",
          "formerly smoked",
          "formerly smoked",
          "formerly smoked",
          "formerly smoked",
          "formerly smoked",
          "formerly smoked",
          "formerly smoked",
          "formerly smoked",
          "formerly smoked",
          "formerly smoked",
          "formerly smoked",
          "formerly smoked",
          "formerly smoked",
          "formerly smoked",
          "formerly smoked",
          "formerly smoked",
          "formerly smoked",
          "formerly smoked",
          "formerly smoked",
          "formerly smoked",
          "formerly smoked",
          "formerly smoked",
          "formerly smoked",
          "formerly smoked",
          "formerly smoked",
          "formerly smoked",
          "formerly smoked",
          "formerly smoked",
          "formerly smoked",
          "formerly smoked",
          "formerly smoked",
          "formerly smoked",
          "formerly smoked",
          "formerly smoked",
          "formerly smoked",
          "formerly smoked",
          "formerly smoked",
          "formerly smoked",
          "formerly smoked",
          "formerly smoked",
          "formerly smoked",
          "formerly smoked",
          "formerly smoked",
          "formerly smoked",
          "formerly smoked",
          "formerly smoked",
          "formerly smoked",
          "formerly smoked",
          "formerly smoked",
          "formerly smoked",
          "formerly smoked",
          "formerly smoked",
          "formerly smoked",
          "formerly smoked",
          "formerly smoked",
          "formerly smoked",
          "formerly smoked",
          "formerly smoked",
          "formerly smoked",
          "formerly smoked",
          "formerly smoked",
          "formerly smoked",
          "formerly smoked",
          "formerly smoked",
          "formerly smoked",
          "formerly smoked",
          "formerly smoked",
          "formerly smoked",
          "formerly smoked",
          "formerly smoked",
          "formerly smoked",
          "formerly smoked",
          "formerly smoked",
          "formerly smoked",
          "formerly smoked",
          "formerly smoked",
          "formerly smoked",
          "formerly smoked",
          "formerly smoked",
          "formerly smoked",
          "formerly smoked",
          "formerly smoked",
          "formerly smoked",
          "formerly smoked",
          "formerly smoked",
          "formerly smoked",
          "formerly smoked",
          "formerly smoked",
          "formerly smoked",
          "formerly smoked",
          "formerly smoked",
          "formerly smoked",
          "formerly smoked",
          "formerly smoked",
          "formerly smoked",
          "formerly smoked",
          "formerly smoked",
          "formerly smoked",
          "formerly smoked",
          "formerly smoked",
          "formerly smoked",
          "formerly smoked",
          "formerly smoked",
          "formerly smoked",
          "formerly smoked",
          "formerly smoked",
          "formerly smoked",
          "formerly smoked",
          "formerly smoked",
          "formerly smoked",
          "formerly smoked",
          "formerly smoked",
          "formerly smoked",
          "formerly smoked",
          "formerly smoked",
          "formerly smoked",
          "formerly smoked",
          "formerly smoked",
          "formerly smoked",
          "formerly smoked",
          "formerly smoked",
          "formerly smoked",
          "formerly smoked",
          "formerly smoked",
          "formerly smoked",
          "formerly smoked",
          "formerly smoked",
          "formerly smoked",
          "formerly smoked",
          "formerly smoked",
          "formerly smoked",
          "formerly smoked",
          "formerly smoked",
          "formerly smoked",
          "formerly smoked",
          "formerly smoked",
          "formerly smoked",
          "formerly smoked",
          "formerly smoked",
          "formerly smoked",
          "formerly smoked",
          "formerly smoked",
          "formerly smoked",
          "formerly smoked",
          "formerly smoked",
          "formerly smoked",
          "formerly smoked",
          "formerly smoked",
          "formerly smoked",
          "formerly smoked",
          "formerly smoked",
          "formerly smoked",
          "formerly smoked",
          "formerly smoked",
          "formerly smoked",
          "formerly smoked",
          "formerly smoked",
          "formerly smoked",
          "formerly smoked",
          "formerly smoked",
          "formerly smoked",
          "formerly smoked",
          "formerly smoked",
          "formerly smoked",
          "formerly smoked",
          "formerly smoked",
          "formerly smoked",
          "formerly smoked",
          "formerly smoked",
          "formerly smoked",
          "formerly smoked",
          "formerly smoked",
          "formerly smoked",
          "formerly smoked",
          "formerly smoked",
          "formerly smoked",
          "formerly smoked",
          "formerly smoked",
          "formerly smoked",
          "formerly smoked",
          "formerly smoked",
          "formerly smoked",
          "formerly smoked",
          "formerly smoked",
          "formerly smoked",
          "formerly smoked",
          "formerly smoked",
          "formerly smoked",
          "formerly smoked",
          "formerly smoked",
          "formerly smoked",
          "formerly smoked",
          "formerly smoked",
          "formerly smoked",
          "formerly smoked",
          "formerly smoked",
          "formerly smoked",
          "formerly smoked",
          "formerly smoked",
          "formerly smoked",
          "formerly smoked",
          "formerly smoked",
          "formerly smoked",
          "formerly smoked",
          "formerly smoked",
          "formerly smoked",
          "formerly smoked",
          "formerly smoked",
          "formerly smoked",
          "formerly smoked",
          "formerly smoked",
          "formerly smoked",
          "formerly smoked",
          "formerly smoked",
          "formerly smoked",
          "formerly smoked",
          "formerly smoked",
          "formerly smoked",
          "formerly smoked",
          "formerly smoked",
          "formerly smoked",
          "formerly smoked",
          "formerly smoked",
          "formerly smoked",
          "formerly smoked",
          "formerly smoked",
          "formerly smoked",
          "formerly smoked",
          "formerly smoked",
          "formerly smoked",
          "formerly smoked",
          "formerly smoked",
          "formerly smoked",
          "formerly smoked",
          "formerly smoked",
          "formerly smoked",
          "formerly smoked",
          "formerly smoked"
         ],
         "x0": " ",
         "xaxis": "x",
         "y": {
          "bdata": "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",
          "dtype": "f8"
         },
         "y0": " ",
         "yaxis": "y"
        },
        {
         "alignmentgroup": "True",
         "hovertemplate": "smoking_status=%{x}<br>bmi=%{y}<extra></extra>",
         "legendgroup": "never smoked",
         "marker": {
          "color": "#EF553B"
         },
         "name": "never smoked",
         "notched": false,
         "offsetgroup": "never smoked",
         "orientation": "v",
         "showlegend": true,
         "type": "box",
         "x": [
          "never smoked",
          "never smoked",
          "never smoked",
          "never smoked",
          "never smoked",
          "never smoked",
          "never smoked",
          "never smoked",
          "never smoked",
          "never smoked",
          "never smoked",
          "never smoked",
          "never smoked",
          "never smoked",
          "never smoked",
          "never smoked",
          "never smoked",
          "never smoked",
          "never smoked",
          "never smoked",
          "never smoked",
          "never smoked",
          "never smoked",
          "never smoked",
          "never smoked",
          "never smoked",
          "never smoked",
          "never smoked",
          "never smoked",
          "never smoked",
          "never smoked",
          "never smoked",
          "never smoked",
          "never smoked",
          "never smoked",
          "never smoked",
          "never smoked",
          "never smoked",
          "never smoked",
          "never smoked",
          "never smoked",
          "never smoked",
          "never smoked",
          "never smoked",
          "never smoked",
          "never smoked",
          "never smoked",
          "never smoked",
          "never smoked",
          "never smoked",
          "never smoked",
          "never smoked",
          "never smoked",
          "never smoked",
          "never smoked",
          "never smoked",
          "never smoked",
          "never smoked",
          "never smoked",
          "never smoked",
          "never smoked",
          "never smoked",
          "never smoked",
          "never smoked",
          "never smoked",
          "never smoked",
          "never smoked",
          "never smoked",
          "never smoked",
          "never smoked",
          "never smoked",
          "never smoked",
          "never smoked",
          "never smoked",
          "never smoked",
          "never smoked",
          "never smoked",
          "never smoked",
          "never smoked",
          "never smoked",
          "never smoked",
          "never smoked",
          "never smoked",
          "never smoked",
          "never smoked",
          "never smoked",
          "never smoked",
          "never smoked",
          "never smoked",
          "never smoked",
          "never smoked",
          "never smoked",
          "never smoked",
          "never smoked",
          "never smoked",
          "never smoked",
          "never smoked",
          "never smoked",
          "never smoked",
          "never smoked",
          "never smoked",
          "never smoked",
          "never smoked",
          "never smoked",
          "never smoked",
          "never smoked",
          "never smoked",
          "never smoked",
          "never smoked",
          "never smoked",
          "never smoked",
          "never smoked",
          "never smoked",
          "never smoked",
          "never smoked",
          "never smoked",
          "never smoked",
          "never smoked",
          "never smoked",
          "never smoked",
          "never smoked",
          "never smoked",
          "never smoked",
          "never smoked",
          "never smoked",
          "never smoked",
          "never smoked",
          "never smoked",
          "never smoked",
          "never smoked",
          "never smoked",
          "never smoked",
          "never smoked",
          "never smoked",
          "never smoked",
          "never smoked",
          "never smoked",
          "never smoked",
          "never smoked",
          "never smoked",
          "never smoked",
          "never smoked",
          "never smoked",
          "never smoked",
          "never smoked",
          "never smoked",
          "never smoked",
          "never smoked",
          "never smoked",
          "never smoked",
          "never smoked",
          "never smoked",
          "never smoked",
          "never smoked",
          "never smoked",
          "never smoked",
          "never smoked",
          "never smoked",
          "never smoked",
          "never smoked",
          "never smoked",
          "never smoked",
          "never smoked",
          "never smoked",
          "never smoked",
          "never smoked",
          "never smoked",
          "never smoked",
          "never smoked",
          "never smoked",
          "never smoked",
          "never smoked",
          "never smoked",
          "never smoked",
          "never smoked",
          "never smoked",
          "never smoked",
          "never smoked",
          "never smoked",
          "never smoked",
          "never smoked",
          "never smoked",
          "never smoked",
          "never smoked",
          "never smoked",
          "never smoked",
          "never smoked",
          "never smoked",
          "never smoked",
          "never smoked",
          "never smoked",
          "never smoked",
          "never smoked",
          "never smoked",
          "never smoked",
          "never smoked",
          "never smoked",
          "never smoked",
          "never smoked",
          "never smoked",
          "never smoked",
          "never smoked",
          "never smoked",
          "never smoked",
          "never smoked",
          "never smoked",
          "never smoked",
          "never smoked",
          "never smoked",
          "never smoked",
          "never smoked",
          "never smoked",
          "never smoked",
          "never smoked",
          "never smoked",
          "never smoked",
          "never smoked",
          "never smoked",
          "never smoked",
          "never smoked",
          "never smoked",
          "never smoked",
          "never smoked",
          "never smoked",
          "never smoked",
          "never smoked",
          "never smoked",
          "never smoked",
          "never smoked",
          "never smoked",
          "never smoked",
          "never smoked",
          "never smoked",
          "never smoked",
          "never smoked",
          "never smoked",
          "never smoked",
          "never smoked",
          "never smoked",
          "never smoked",
          "never smoked",
          "never smoked",
          "never smoked",
          "never smoked",
          "never smoked",
          "never smoked",
          "never smoked",
          "never smoked",
          "never smoked",
          "never smoked",
          "never smoked",
          "never smoked",
          "never smoked",
          "never smoked",
          "never smoked",
          "never smoked",
          "never smoked",
          "never smoked",
          "never smoked",
          "never smoked",
          "never smoked",
          "never smoked",
          "never smoked",
          "never smoked",
          "never smoked",
          "never smoked",
          "never smoked",
          "never smoked",
          "never smoked",
          "never smoked",
          "never smoked",
          "never smoked",
          "never smoked",
          "never smoked",
          "never smoked",
          "never smoked",
          "never smoked",
          "never smoked",
          "never smoked",
          "never smoked",
          "never smoked",
          "never smoked",
          "never smoked",
          "never smoked",
          "never smoked",
          "never smoked",
          "never smoked",
          "never smoked",
          "never smoked",
          "never smoked",
          "never smoked",
          "never smoked",
          "never smoked",
          "never smoked",
          "never smoked",
          "never smoked",
          "never smoked",
          "never smoked",
          "never smoked",
          "never smoked",
          "never smoked",
          "never smoked",
          "never smoked",
          "never smoked",
          "never smoked",
          "never smoked",
          "never smoked",
          "never smoked",
          "never smoked",
          "never smoked",
          "never smoked",
          "never smoked",
          "never smoked",
          "never smoked",
          "never smoked",
          "never smoked",
          "never smoked",
          "never smoked",
          "never smoked",
          "never smoked",
          "never smoked",
          "never smoked",
          "never smoked",
          "never smoked",
          "never smoked",
          "never smoked",
          "never smoked",
          "never smoked",
          "never smoked",
          "never smoked",
          "never smoked",
          "never smoked",
          "never smoked",
          "never smoked",
          "never smoked",
          "never smoked",
          "never smoked",
          "never smoked",
          "never smoked",
          "never smoked",
          "never smoked",
          "never smoked",
          "never smoked",
          "never smoked",
          "never smoked",
          "never smoked",
          "never smoked",
          "never smoked",
          "never smoked",
          "never smoked",
          "never smoked",
          "never smoked",
          "never smoked",
          "never smoked",
          "never smoked",
          "never smoked",
          "never smoked",
          "never smoked",
          "never smoked",
          "never smoked",
          "never smoked",
          "never smoked",
          "never smoked",
          "never smoked",
          "never smoked",
          "never smoked",
          "never smoked",
          "never smoked",
          "never smoked",
          "never smoked",
          "never smoked",
          "never smoked",
          "never smoked",
          "never smoked",
          "never smoked",
          "never smoked",
          "never smoked",
          "never smoked",
          "never smoked",
          "never smoked",
          "never smoked",
          "never smoked",
          "never smoked",
          "never smoked",
          "never smoked",
          "never smoked",
          "never smoked",
          "never smoked",
          "never smoked",
          "never smoked",
          "never smoked",
          "never smoked",
          "never smoked",
          "never smoked",
          "never smoked",
          "never smoked",
          "never smoked",
          "never smoked",
          "never smoked",
          "never smoked",
          "never smoked",
          "never smoked",
          "never smoked",
          "never smoked",
          "never smoked",
          "never smoked",
          "never smoked",
          "never smoked",
          "never smoked",
          "never smoked",
          "never smoked",
          "never smoked",
          "never smoked",
          "never smoked",
          "never smoked",
          "never smoked",
          "never smoked",
          "never smoked",
          "never smoked",
          "never smoked",
          "never smoked",
          "never smoked",
          "never smoked",
          "never smoked",
          "never smoked",
          "never smoked",
          "never smoked",
          "never smoked",
          "never smoked",
          "never smoked",
          "never smoked",
          "never smoked",
          "never smoked",
          "never smoked",
          "never smoked",
          "never smoked",
          "never smoked",
          "never smoked",
          "never smoked",
          "never smoked",
          "never smoked",
          "never smoked",
          "never smoked",
          "never smoked",
          "never smoked",
          "never smoked",
          "never smoked",
          "never smoked",
          "never smoked",
          "never smoked",
          "never smoked",
          "never smoked",
          "never smoked",
          "never smoked",
          "never smoked",
          "never smoked",
          "never smoked",
          "never smoked",
          "never smoked",
          "never smoked",
          "never smoked",
          "never smoked",
          "never smoked",
          "never smoked",
          "never smoked",
          "never smoked",
          "never smoked",
          "never smoked",
          "never smoked",
          "never smoked",
          "never smoked",
          "never smoked",
          "never smoked",
          "never smoked",
          "never smoked",
          "never smoked",
          "never smoked",
          "never smoked",
          "never smoked",
          "never smoked",
          "never smoked",
          "never smoked",
          "never smoked",
          "never smoked",
          "never smoked",
          "never smoked",
          "never smoked",
          "never smoked",
          "never smoked",
          "never smoked",
          "never smoked",
          "never smoked",
          "never smoked",
          "never smoked",
          "never smoked",
          "never smoked",
          "never smoked",
          "never smoked",
          "never smoked",
          "never smoked",
          "never smoked",
          "never smoked",
          "never smoked",
          "never smoked",
          "never smoked",
          "never smoked",
          "never smoked",
          "never smoked",
          "never smoked",
          "never smoked"
         ],
         "x0": " ",
         "xaxis": "x",
         "y": {
          "bdata": "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",
          "dtype": "f8"
         },
         "y0": " ",
         "yaxis": "y"
        },
        {
         "alignmentgroup": "True",
         "hovertemplate": "smoking_status=%{x}<br>bmi=%{y}<extra></extra>",
         "legendgroup": "Unknown",
         "marker": {
          "color": "#00cc96"
         },
         "name": "Unknown",
         "notched": false,
         "offsetgroup": "Unknown",
         "orientation": "v",
         "showlegend": true,
         "type": "box",
         "x": [
          "Unknown",
          "Unknown",
          "Unknown",
          "Unknown",
          "Unknown",
          "Unknown",
          "Unknown",
          "Unknown",
          "Unknown",
          "Unknown",
          "Unknown",
          "Unknown",
          "Unknown",
          "Unknown",
          "Unknown",
          "Unknown",
          "Unknown",
          "Unknown",
          "Unknown",
          "Unknown",
          "Unknown",
          "Unknown",
          "Unknown",
          "Unknown",
          "Unknown",
          "Unknown",
          "Unknown",
          "Unknown",
          "Unknown",
          "Unknown",
          "Unknown",
          "Unknown",
          "Unknown",
          "Unknown",
          "Unknown",
          "Unknown",
          "Unknown",
          "Unknown",
          "Unknown",
          "Unknown",
          "Unknown",
          "Unknown",
          "Unknown",
          "Unknown",
          "Unknown",
          "Unknown",
          "Unknown",
          "Unknown",
          "Unknown",
          "Unknown",
          "Unknown",
          "Unknown",
          "Unknown",
          "Unknown",
          "Unknown",
          "Unknown",
          "Unknown",
          "Unknown",
          "Unknown",
          "Unknown",
          "Unknown",
          "Unknown",
          "Unknown",
          "Unknown",
          "Unknown",
          "Unknown",
          "Unknown",
          "Unknown",
          "Unknown",
          "Unknown",
          "Unknown",
          "Unknown",
          "Unknown",
          "Unknown",
          "Unknown",
          "Unknown",
          "Unknown",
          "Unknown",
          "Unknown",
          "Unknown",
          "Unknown",
          "Unknown",
          "Unknown",
          "Unknown",
          "Unknown",
          "Unknown",
          "Unknown",
          "Unknown",
          "Unknown",
          "Unknown",
          "Unknown",
          "Unknown",
          "Unknown",
          "Unknown",
          "Unknown",
          "Unknown",
          "Unknown",
          "Unknown",
          "Unknown",
          "Unknown",
          "Unknown",
          "Unknown",
          "Unknown",
          "Unknown",
          "Unknown",
          "Unknown",
          "Unknown",
          "Unknown",
          "Unknown",
          "Unknown",
          "Unknown",
          "Unknown",
          "Unknown",
          "Unknown",
          "Unknown",
          "Unknown",
          "Unknown",
          "Unknown",
          "Unknown",
          "Unknown",
          "Unknown",
          "Unknown",
          "Unknown",
          "Unknown",
          "Unknown",
          "Unknown",
          "Unknown",
          "Unknown",
          "Unknown",
          "Unknown",
          "Unknown",
          "Unknown",
          "Unknown",
          "Unknown",
          "Unknown",
          "Unknown",
          "Unknown",
          "Unknown",
          "Unknown",
          "Unknown",
          "Unknown",
          "Unknown",
          "Unknown",
          "Unknown",
          "Unknown",
          "Unknown",
          "Unknown",
          "Unknown",
          "Unknown",
          "Unknown",
          "Unknown",
          "Unknown",
          "Unknown",
          "Unknown",
          "Unknown",
          "Unknown",
          "Unknown",
          "Unknown",
          "Unknown",
          "Unknown",
          "Unknown",
          "Unknown",
          "Unknown",
          "Unknown",
          "Unknown",
          "Unknown",
          "Unknown",
          "Unknown",
          "Unknown",
          "Unknown",
          "Unknown",
          "Unknown",
          "Unknown",
          "Unknown",
          "Unknown",
          "Unknown",
          "Unknown",
          "Unknown",
          "Unknown",
          "Unknown",
          "Unknown",
          "Unknown",
          "Unknown",
          "Unknown",
          "Unknown",
          "Unknown",
          "Unknown",
          "Unknown",
          "Unknown",
          "Unknown",
          "Unknown",
          "Unknown",
          "Unknown",
          "Unknown",
          "Unknown",
          "Unknown",
          "Unknown",
          "Unknown",
          "Unknown",
          "Unknown",
          "Unknown",
          "Unknown",
          "Unknown",
          "Unknown",
          "Unknown",
          "Unknown",
          "Unknown",
          "Unknown",
          "Unknown",
          "Unknown",
          "Unknown",
          "Unknown",
          "Unknown",
          "Unknown",
          "Unknown",
          "Unknown",
          "Unknown",
          "Unknown",
          "Unknown",
          "Unknown",
          "Unknown",
          "Unknown",
          "Unknown",
          "Unknown",
          "Unknown",
          "Unknown",
          "Unknown",
          "Unknown",
          "Unknown",
          "Unknown",
          "Unknown",
          "Unknown",
          "Unknown",
          "Unknown",
          "Unknown",
          "Unknown",
          "Unknown",
          "Unknown",
          "Unknown",
          "Unknown",
          "Unknown",
          "Unknown",
          "Unknown"
         ],
         "x0": " ",
         "xaxis": "x",
         "y": {
          "bdata": "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",
          "dtype": "f8"
         },
         "y0": " ",
         "yaxis": "y"
        },
        {
         "alignmentgroup": "True",
         "hovertemplate": "smoking_status=%{x}<br>bmi=%{y}<extra></extra>",
         "legendgroup": "smokes",
         "marker": {
          "color": "#ab63fa"
         },
         "name": "smokes",
         "notched": false,
         "offsetgroup": "smokes",
         "orientation": "v",
         "showlegend": true,
         "type": "box",
         "x": [
          "smokes",
          "smokes",
          "smokes",
          "smokes",
          "smokes",
          "smokes",
          "smokes",
          "smokes",
          "smokes",
          "smokes",
          "smokes",
          "smokes",
          "smokes",
          "smokes",
          "smokes",
          "smokes",
          "smokes",
          "smokes",
          "smokes",
          "smokes",
          "smokes",
          "smokes",
          "smokes",
          "smokes",
          "smokes",
          "smokes",
          "smokes",
          "smokes",
          "smokes",
          "smokes",
          "smokes",
          "smokes",
          "smokes",
          "smokes",
          "smokes",
          "smokes",
          "smokes",
          "smokes",
          "smokes",
          "smokes",
          "smokes",
          "smokes",
          "smokes",
          "smokes",
          "smokes",
          "smokes",
          "smokes",
          "smokes",
          "smokes",
          "smokes",
          "smokes",
          "smokes",
          "smokes",
          "smokes",
          "smokes",
          "smokes",
          "smokes",
          "smokes",
          "smokes",
          "smokes",
          "smokes",
          "smokes",
          "smokes",
          "smokes",
          "smokes",
          "smokes",
          "smokes",
          "smokes",
          "smokes",
          "smokes",
          "smokes",
          "smokes",
          "smokes",
          "smokes",
          "smokes",
          "smokes",
          "smokes",
          "smokes",
          "smokes",
          "smokes",
          "smokes",
          "smokes",
          "smokes",
          "smokes",
          "smokes",
          "smokes",
          "smokes",
          "smokes",
          "smokes",
          "smokes",
          "smokes",
          "smokes",
          "smokes",
          "smokes",
          "smokes",
          "smokes",
          "smokes",
          "smokes",
          "smokes",
          "smokes",
          "smokes",
          "smokes",
          "smokes",
          "smokes",
          "smokes",
          "smokes",
          "smokes",
          "smokes",
          "smokes",
          "smokes",
          "smokes",
          "smokes",
          "smokes",
          "smokes",
          "smokes",
          "smokes",
          "smokes",
          "smokes",
          "smokes",
          "smokes",
          "smokes",
          "smokes",
          "smokes",
          "smokes",
          "smokes",
          "smokes",
          "smokes",
          "smokes",
          "smokes",
          "smokes",
          "smokes",
          "smokes",
          "smokes",
          "smokes",
          "smokes",
          "smokes",
          "smokes",
          "smokes",
          "smokes",
          "smokes",
          "smokes",
          "smokes",
          "smokes",
          "smokes",
          "smokes",
          "smokes",
          "smokes",
          "smokes",
          "smokes",
          "smokes",
          "smokes",
          "smokes",
          "smokes",
          "smokes",
          "smokes",
          "smokes",
          "smokes",
          "smokes",
          "smokes",
          "smokes",
          "smokes",
          "smokes",
          "smokes",
          "smokes",
          "smokes",
          "smokes",
          "smokes",
          "smokes",
          "smokes",
          "smokes",
          "smokes",
          "smokes",
          "smokes",
          "smokes",
          "smokes"
         ],
         "x0": " ",
         "xaxis": "x",
         "y": {
          "bdata": "ZmZmZmZmQkAAAAAAAMBCQM3MzMzMzDlAZmZmZmZmNkDNzMzMzEw8QGZmZmZmZjpAzczMzMxMOUDNzMzMzEw7QDMzMzMzMzhAzczMzMxMO0DNzMzMzEw/QDMzMzMzsz9AAAAAAACAO0AAAAAAAAD4fzMzMzMzs0JAmpmZmZkZP0BmZmZmZuY6QAAAAAAAAD9AAAAAAAAA+H+amZmZmRk8QM3MzMzMzDlAAAAAAACANUAzMzMzMzM5QGZmZmZmZjxAZmZmZmamQUBmZmZmZiZCQAAAAAAAAPh/ZmZmZmZmPUDNzMzMzMw6QJqZmZmZGU5AZmZmZmbmN0BmZmZmZmY5QAAAAAAAgDdAAAAAAAAAO0AAAAAAAAA8QJqZmZmZmT1AMzMzMzOzMEDNzMzMzExBQGZmZmZmZj1AMzMzMzNzQUAzMzMzM7M/QM3MzMzMTD5AzczMzMxMN0AzMzMzMzNAQJqZmZmZmTpAMzMzMzMzPECamZmZmZk6QJqZmZmZmUFAmpmZmZmZQkAzMzMzM7M8QJqZmZmZGTlAMzMzMzMzPkAAAAAAAAA9QAAAAAAAAPh/mpmZmZmZOkAAAAAAAIA9QGZmZmZmZkJAAAAAAACAPECamZmZmZk7QAAAAAAAAD5AMzMzMzOzPkBmZmZmZmZAQDMzMzMzsz1AMzMzMzNzQ0BmZmZmZuY8QJqZmZmZGThAmpmZmZmZP0AzMzMzM7NBQAAAAAAAAPh/AAAAAAAAP0AAAAAAAMBAQDMzMzMzszdAmpmZmZkZPUBmZmZmZiZBQJqZmZmZGT5AMzMzMzMzOEAzMzMzM7M8QJqZmZmZmTpAMzMzMzOzP0BmZmZmZmY8QGZmZmZmJkRAMzMzMzMzQUDNzMzMzEw+QAAAAAAAgDpAzczMzMzMN0AAAAAAAIBBQJqZmZmZGTdAAAAAAADAQECamZmZmRlGQAAAAAAAgDVAMzMzMzOzQEAzMzMzM7M4QDMzMzMzMz1AmpmZmZlZRUBmZmZmZmY/QGZmZmZmZjpAMzMzMzOzN0AzMzMzMzM2QAAAAAAAAEFAZmZmZmZmPkCamZmZmVlKQM3MzMzMTDVAAAAAAAAA+H8zMzMzMzM5QAAAAAAAAPh/mpmZmZmZQ0AAAAAAAIBCQAAAAAAAAEFAzczMzMxMOkCamZmZmZk5QAAAAAAAADpAAAAAAAAA+H+amZmZmZlEQJqZmZmZGUBAAAAAAAAAN0AzMzMzM7M6QJqZmZmZGTpAAAAAAAAA+H8AAAAAAAD4f2ZmZmZm5jxAZmZmZmbmO0AzMzMzM7MwQAAAAAAAADdAAAAAAAAA+H+amZmZmZk/QM3MzMzMzD1AAAAAAAAAQUAAAAAAAIA9QJqZmZmZGUBAMzMzMzOzRUBmZmZmZmY1QDMzMzMzszpAAAAAAACAOEAzMzMzM7M2QGZmZmZm5jxAzczMzMxMOEAAAAAAAIA6QDMzMzMzM0RAZmZmZmZmP0AAAAAAAAA8QM3MzMzMTDlAAAAAAAAA+H8AAAAAAEBBQAAAAAAAgD9AAAAAAAAAQEAAAAAAAAD4f83MzMzMzDlAmpmZmZkZREBmZmZmZiZDQGZmZmZmZjlAMzMzMzOzOUAzMzMzM3NAQAAAAAAAADlAAAAAAAAAOkAAAAAAAAA7QM3MzMzMTEBAMzMzMzMzQEBmZmZmZuZAQJqZmZmZmTRAAAAAAAAA+H8AAAAAAIA3QM3MzMzMDEBAZmZmZmbmMUDNzMzMzEw5QJqZmZmZGTtAMzMzMzOzQkAAAAAAAAD4f2ZmZmZmZjtAAAAAAADAQEAAAAAAAIA5QGZmZmZmZjdAAAAAAAAA+H+amZmZmZlBQJqZmZmZGT5AZmZmZmbmOkA=",
          "dtype": "f8"
         },
         "y0": " ",
         "yaxis": "y"
        }
       ],
       "layout": {
        "boxmode": "overlay",
        "legend": {
         "title": {
          "text": "smoking_status"
         },
         "tracegroupgap": 0
        },
        "template": {
         "data": {
          "bar": [
           {
            "error_x": {
             "color": "#2a3f5f"
            },
            "error_y": {
             "color": "#2a3f5f"
            },
            "marker": {
             "line": {
              "color": "#E5ECF6",
              "width": 0.5
             },
             "pattern": {
              "fillmode": "overlay",
              "size": 10,
              "solidity": 0.2
             }
            },
            "type": "bar"
           }
          ],
          "barpolar": [
           {
            "marker": {
             "line": {
              "color": "#E5ECF6",
              "width": 0.5
             },
             "pattern": {
              "fillmode": "overlay",
              "size": 10,
              "solidity": 0.2
             }
            },
            "type": "barpolar"
           }
          ],
          "carpet": [
           {
            "aaxis": {
             "endlinecolor": "#2a3f5f",
             "gridcolor": "white",
             "linecolor": "white",
             "minorgridcolor": "white",
             "startlinecolor": "#2a3f5f"
            },
            "baxis": {
             "endlinecolor": "#2a3f5f",
             "gridcolor": "white",
             "linecolor": "white",
             "minorgridcolor": "white",
             "startlinecolor": "#2a3f5f"
            },
            "type": "carpet"
           }
          ],
          "choropleth": [
           {
            "colorbar": {
             "outlinewidth": 0,
             "ticks": ""
            },
            "type": "choropleth"
           }
          ],
          "contour": [
           {
            "colorbar": {
             "outlinewidth": 0,
             "ticks": ""
            },
            "colorscale": [
             [
              0,
              "#0d0887"
             ],
             [
              0.1111111111111111,
              "#46039f"
             ],
             [
              0.2222222222222222,
              "#7201a8"
             ],
             [
              0.3333333333333333,
              "#9c179e"
             ],
             [
              0.4444444444444444,
              "#bd3786"
             ],
             [
              0.5555555555555556,
              "#d8576b"
             ],
             [
              0.6666666666666666,
              "#ed7953"
             ],
             [
              0.7777777777777778,
              "#fb9f3a"
             ],
             [
              0.8888888888888888,
              "#fdca26"
             ],
             [
              1,
              "#f0f921"
             ]
            ],
            "type": "contour"
           }
          ],
          "contourcarpet": [
           {
            "colorbar": {
             "outlinewidth": 0,
             "ticks": ""
            },
            "type": "contourcarpet"
           }
          ],
          "heatmap": [
           {
            "colorbar": {
             "outlinewidth": 0,
             "ticks": ""
            },
            "colorscale": [
             [
              0,
              "#0d0887"
             ],
             [
              0.1111111111111111,
              "#46039f"
             ],
             [
              0.2222222222222222,
              "#7201a8"
             ],
             [
              0.3333333333333333,
              "#9c179e"
             ],
             [
              0.4444444444444444,
              "#bd3786"
             ],
             [
              0.5555555555555556,
              "#d8576b"
             ],
             [
              0.6666666666666666,
              "#ed7953"
             ],
             [
              0.7777777777777778,
              "#fb9f3a"
             ],
             [
              0.8888888888888888,
              "#fdca26"
             ],
             [
              1,
              "#f0f921"
             ]
            ],
            "type": "heatmap"
           }
          ],
          "histogram": [
           {
            "marker": {
             "pattern": {
              "fillmode": "overlay",
              "size": 10,
              "solidity": 0.2
             }
            },
            "type": "histogram"
           }
          ],
          "histogram2d": [
           {
            "colorbar": {
             "outlinewidth": 0,
             "ticks": ""
            },
            "colorscale": [
             [
              0,
              "#0d0887"
             ],
             [
              0.1111111111111111,
              "#46039f"
             ],
             [
              0.2222222222222222,
              "#7201a8"
             ],
             [
              0.3333333333333333,
              "#9c179e"
             ],
             [
              0.4444444444444444,
              "#bd3786"
             ],
             [
              0.5555555555555556,
              "#d8576b"
             ],
             [
              0.6666666666666666,
              "#ed7953"
             ],
             [
              0.7777777777777778,
              "#fb9f3a"
             ],
             [
              0.8888888888888888,
              "#fdca26"
             ],
             [
              1,
              "#f0f921"
             ]
            ],
            "type": "histogram2d"
           }
          ],
          "histogram2dcontour": [
           {
            "colorbar": {
             "outlinewidth": 0,
             "ticks": ""
            },
            "colorscale": [
             [
              0,
              "#0d0887"
             ],
             [
              0.1111111111111111,
              "#46039f"
             ],
             [
              0.2222222222222222,
              "#7201a8"
             ],
             [
              0.3333333333333333,
              "#9c179e"
             ],
             [
              0.4444444444444444,
              "#bd3786"
             ],
             [
              0.5555555555555556,
              "#d8576b"
             ],
             [
              0.6666666666666666,
              "#ed7953"
             ],
             [
              0.7777777777777778,
              "#fb9f3a"
             ],
             [
              0.8888888888888888,
              "#fdca26"
             ],
             [
              1,
              "#f0f921"
             ]
            ],
            "type": "histogram2dcontour"
           }
          ],
          "mesh3d": [
           {
            "colorbar": {
             "outlinewidth": 0,
             "ticks": ""
            },
            "type": "mesh3d"
           }
          ],
          "parcoords": [
           {
            "line": {
             "colorbar": {
              "outlinewidth": 0,
              "ticks": ""
             }
            },
            "type": "parcoords"
           }
          ],
          "pie": [
           {
            "automargin": true,
            "type": "pie"
           }
          ],
          "scatter": [
           {
            "fillpattern": {
             "fillmode": "overlay",
             "size": 10,
             "solidity": 0.2
            },
            "type": "scatter"
           }
          ],
          "scatter3d": [
           {
            "line": {
             "colorbar": {
              "outlinewidth": 0,
              "ticks": ""
             }
            },
            "marker": {
             "colorbar": {
              "outlinewidth": 0,
              "ticks": ""
             }
            },
            "type": "scatter3d"
           }
          ],
          "scattercarpet": [
           {
            "marker": {
             "colorbar": {
              "outlinewidth": 0,
              "ticks": ""
             }
            },
            "type": "scattercarpet"
           }
          ],
          "scattergeo": [
           {
            "marker": {
             "colorbar": {
              "outlinewidth": 0,
              "ticks": ""
             }
            },
            "type": "scattergeo"
           }
          ],
          "scattergl": [
           {
            "marker": {
             "colorbar": {
              "outlinewidth": 0,
              "ticks": ""
             }
            },
            "type": "scattergl"
           }
          ],
          "scattermap": [
           {
            "marker": {
             "colorbar": {
              "outlinewidth": 0,
              "ticks": ""
             }
            },
            "type": "scattermap"
           }
          ],
          "scattermapbox": [
           {
            "marker": {
             "colorbar": {
              "outlinewidth": 0,
              "ticks": ""
             }
            },
            "type": "scattermapbox"
           }
          ],
          "scatterpolar": [
           {
            "marker": {
             "colorbar": {
              "outlinewidth": 0,
              "ticks": ""
             }
            },
            "type": "scatterpolar"
           }
          ],
          "scatterpolargl": [
           {
            "marker": {
             "colorbar": {
              "outlinewidth": 0,
              "ticks": ""
             }
            },
            "type": "scatterpolargl"
           }
          ],
          "scatterternary": [
           {
            "marker": {
             "colorbar": {
              "outlinewidth": 0,
              "ticks": ""
             }
            },
            "type": "scatterternary"
           }
          ],
          "surface": [
           {
            "colorbar": {
             "outlinewidth": 0,
             "ticks": ""
            },
            "colorscale": [
             [
              0,
              "#0d0887"
             ],
             [
              0.1111111111111111,
              "#46039f"
             ],
             [
              0.2222222222222222,
              "#7201a8"
             ],
             [
              0.3333333333333333,
              "#9c179e"
             ],
             [
              0.4444444444444444,
              "#bd3786"
             ],
             [
              0.5555555555555556,
              "#d8576b"
             ],
             [
              0.6666666666666666,
              "#ed7953"
             ],
             [
              0.7777777777777778,
              "#fb9f3a"
             ],
             [
              0.8888888888888888,
              "#fdca26"
             ],
             [
              1,
              "#f0f921"
             ]
            ],
            "type": "surface"
           }
          ],
          "table": [
           {
            "cells": {
             "fill": {
              "color": "#EBF0F8"
             },
             "line": {
              "color": "white"
             }
            },
            "header": {
             "fill": {
              "color": "#C8D4E3"
             },
             "line": {
              "color": "white"
             }
            },
            "type": "table"
           }
          ]
         },
         "layout": {
          "annotationdefaults": {
           "arrowcolor": "#2a3f5f",
           "arrowhead": 0,
           "arrowwidth": 1
          },
          "autotypenumbers": "strict",
          "coloraxis": {
           "colorbar": {
            "outlinewidth": 0,
            "ticks": ""
           }
          },
          "colorscale": {
           "diverging": [
            [
             0,
             "#8e0152"
            ],
            [
             0.1,
             "#c51b7d"
            ],
            [
             0.2,
             "#de77ae"
            ],
            [
             0.3,
             "#f1b6da"
            ],
            [
             0.4,
             "#fde0ef"
            ],
            [
             0.5,
             "#f7f7f7"
            ],
            [
             0.6,
             "#e6f5d0"
            ],
            [
             0.7,
             "#b8e186"
            ],
            [
             0.8,
             "#7fbc41"
            ],
            [
             0.9,
             "#4d9221"
            ],
            [
             1,
             "#276419"
            ]
           ],
           "sequential": [
            [
             0,
             "#0d0887"
            ],
            [
             0.1111111111111111,
             "#46039f"
            ],
            [
             0.2222222222222222,
             "#7201a8"
            ],
            [
             0.3333333333333333,
             "#9c179e"
            ],
            [
             0.4444444444444444,
             "#bd3786"
            ],
            [
             0.5555555555555556,
             "#d8576b"
            ],
            [
             0.6666666666666666,
             "#ed7953"
            ],
            [
             0.7777777777777778,
             "#fb9f3a"
            ],
            [
             0.8888888888888888,
             "#fdca26"
            ],
            [
             1,
             "#f0f921"
            ]
           ],
           "sequentialminus": [
            [
             0,
             "#0d0887"
            ],
            [
             0.1111111111111111,
             "#46039f"
            ],
            [
             0.2222222222222222,
             "#7201a8"
            ],
            [
             0.3333333333333333,
             "#9c179e"
            ],
            [
             0.4444444444444444,
             "#bd3786"
            ],
            [
             0.5555555555555556,
             "#d8576b"
            ],
            [
             0.6666666666666666,
             "#ed7953"
            ],
            [
             0.7777777777777778,
             "#fb9f3a"
            ],
            [
             0.8888888888888888,
             "#fdca26"
            ],
            [
             1,
             "#f0f921"
            ]
           ]
          },
          "colorway": [
           "#636efa",
           "#EF553B",
           "#00cc96",
           "#ab63fa",
           "#FFA15A",
           "#19d3f3",
           "#FF6692",
           "#B6E880",
           "#FF97FF",
           "#FECB52"
          ],
          "font": {
           "color": "#2a3f5f"
          },
          "geo": {
           "bgcolor": "white",
           "lakecolor": "white",
           "landcolor": "#E5ECF6",
           "showlakes": true,
           "showland": true,
           "subunitcolor": "white"
          },
          "hoverlabel": {
           "align": "left"
          },
          "hovermode": "closest",
          "mapbox": {
           "style": "light"
          },
          "paper_bgcolor": "white",
          "plot_bgcolor": "#E5ECF6",
          "polar": {
           "angularaxis": {
            "gridcolor": "white",
            "linecolor": "white",
            "ticks": ""
           },
           "bgcolor": "#E5ECF6",
           "radialaxis": {
            "gridcolor": "white",
            "linecolor": "white",
            "ticks": ""
           }
          },
          "scene": {
           "xaxis": {
            "backgroundcolor": "#E5ECF6",
            "gridcolor": "white",
            "gridwidth": 2,
            "linecolor": "white",
            "showbackground": true,
            "ticks": "",
            "zerolinecolor": "white"
           },
           "yaxis": {
            "backgroundcolor": "#E5ECF6",
            "gridcolor": "white",
            "gridwidth": 2,
            "linecolor": "white",
            "showbackground": true,
            "ticks": "",
            "zerolinecolor": "white"
           },
           "zaxis": {
            "backgroundcolor": "#E5ECF6",
            "gridcolor": "white",
            "gridwidth": 2,
            "linecolor": "white",
            "showbackground": true,
            "ticks": "",
            "zerolinecolor": "white"
           }
          },
          "shapedefaults": {
           "line": {
            "color": "#2a3f5f"
           }
          },
          "ternary": {
           "aaxis": {
            "gridcolor": "white",
            "linecolor": "white",
            "ticks": ""
           },
           "baxis": {
            "gridcolor": "white",
            "linecolor": "white",
            "ticks": ""
           },
           "bgcolor": "#E5ECF6",
           "caxis": {
            "gridcolor": "white",
            "linecolor": "white",
            "ticks": ""
           }
          },
          "title": {
           "x": 0.05
          },
          "xaxis": {
           "automargin": true,
           "gridcolor": "white",
           "linecolor": "white",
           "ticks": "",
           "title": {
            "standoff": 15
           },
           "zerolinecolor": "white",
           "zerolinewidth": 2
          },
          "yaxis": {
           "automargin": true,
           "gridcolor": "white",
           "linecolor": "white",
           "ticks": "",
           "title": {
            "standoff": 15
           },
           "zerolinecolor": "white",
           "zerolinewidth": 2
          }
         }
        },
        "title": {
         "text": "BMI Distribution by Smoking Status (Age > 60)"
        },
        "xaxis": {
         "anchor": "y",
         "categoryarray": [
          "formerly smoked",
          "never smoked",
          "Unknown",
          "smokes"
         ],
         "categoryorder": "array",
         "domain": [
          0,
          1
         ],
         "title": {
          "text": "smoking_status"
         }
        },
        "yaxis": {
         "anchor": "x",
         "domain": [
          0,
          1
         ],
         "title": {
          "text": "bmi"
         }
        }
       }
      }
     },
     "metadata": {},
     "output_type": "display_data"
    }
   ],
   "source": [
    "# Example slicer: Only age > 60\n",
    "df_senior = df[df['age'] > 60]\n",
    "fig3 = px.box(df_senior, x='smoking_status', y='bmi', color='smoking_status',\n",
    "              title='BMI Distribution by Smoking Status (Age > 60)')\n",
    "fig3.show()"
   ]
  },
  {
   "cell_type": "markdown",
   "id": "53a8a84a",
   "metadata": {},
   "source": [
    "**Justification:** Box plots show distribution and outliers, helping stakeholders understand lifestyle impact on BMI in a target demographic."
   ]
  },
  {
   "cell_type": "markdown",
   "id": "bc43deaf",
   "metadata": {},
   "source": [
    "## 4. Gender Distribution Among Stroke Patients (KPI Pie Chart)"
   ]
  },
  {
   "cell_type": "code",
   "execution_count": 8,
   "id": "30d79fcc",
   "metadata": {},
   "outputs": [
    {
     "data": {
      "application/vnd.plotly.v1+json": {
       "config": {
        "plotlyServerURL": "https://plot.ly"
       },
       "data": [
        {
         "domain": {
          "x": [
           0,
           1
          ],
          "y": [
           0,
           1
          ]
         },
         "hovertemplate": "gender=%{label}<br>count=%{value}<extra></extra>",
         "labels": [
          "Female",
          "Male"
         ],
         "legendgroup": "",
         "name": "",
         "showlegend": true,
         "type": "pie",
         "values": {
          "bdata": "jQBsAA==",
          "dtype": "i2"
         }
        }
       ],
       "layout": {
        "legend": {
         "tracegroupgap": 0
        },
        "template": {
         "data": {
          "bar": [
           {
            "error_x": {
             "color": "#2a3f5f"
            },
            "error_y": {
             "color": "#2a3f5f"
            },
            "marker": {
             "line": {
              "color": "#E5ECF6",
              "width": 0.5
             },
             "pattern": {
              "fillmode": "overlay",
              "size": 10,
              "solidity": 0.2
             }
            },
            "type": "bar"
           }
          ],
          "barpolar": [
           {
            "marker": {
             "line": {
              "color": "#E5ECF6",
              "width": 0.5
             },
             "pattern": {
              "fillmode": "overlay",
              "size": 10,
              "solidity": 0.2
             }
            },
            "type": "barpolar"
           }
          ],
          "carpet": [
           {
            "aaxis": {
             "endlinecolor": "#2a3f5f",
             "gridcolor": "white",
             "linecolor": "white",
             "minorgridcolor": "white",
             "startlinecolor": "#2a3f5f"
            },
            "baxis": {
             "endlinecolor": "#2a3f5f",
             "gridcolor": "white",
             "linecolor": "white",
             "minorgridcolor": "white",
             "startlinecolor": "#2a3f5f"
            },
            "type": "carpet"
           }
          ],
          "choropleth": [
           {
            "colorbar": {
             "outlinewidth": 0,
             "ticks": ""
            },
            "type": "choropleth"
           }
          ],
          "contour": [
           {
            "colorbar": {
             "outlinewidth": 0,
             "ticks": ""
            },
            "colorscale": [
             [
              0,
              "#0d0887"
             ],
             [
              0.1111111111111111,
              "#46039f"
             ],
             [
              0.2222222222222222,
              "#7201a8"
             ],
             [
              0.3333333333333333,
              "#9c179e"
             ],
             [
              0.4444444444444444,
              "#bd3786"
             ],
             [
              0.5555555555555556,
              "#d8576b"
             ],
             [
              0.6666666666666666,
              "#ed7953"
             ],
             [
              0.7777777777777778,
              "#fb9f3a"
             ],
             [
              0.8888888888888888,
              "#fdca26"
             ],
             [
              1,
              "#f0f921"
             ]
            ],
            "type": "contour"
           }
          ],
          "contourcarpet": [
           {
            "colorbar": {
             "outlinewidth": 0,
             "ticks": ""
            },
            "type": "contourcarpet"
           }
          ],
          "heatmap": [
           {
            "colorbar": {
             "outlinewidth": 0,
             "ticks": ""
            },
            "colorscale": [
             [
              0,
              "#0d0887"
             ],
             [
              0.1111111111111111,
              "#46039f"
             ],
             [
              0.2222222222222222,
              "#7201a8"
             ],
             [
              0.3333333333333333,
              "#9c179e"
             ],
             [
              0.4444444444444444,
              "#bd3786"
             ],
             [
              0.5555555555555556,
              "#d8576b"
             ],
             [
              0.6666666666666666,
              "#ed7953"
             ],
             [
              0.7777777777777778,
              "#fb9f3a"
             ],
             [
              0.8888888888888888,
              "#fdca26"
             ],
             [
              1,
              "#f0f921"
             ]
            ],
            "type": "heatmap"
           }
          ],
          "histogram": [
           {
            "marker": {
             "pattern": {
              "fillmode": "overlay",
              "size": 10,
              "solidity": 0.2
             }
            },
            "type": "histogram"
           }
          ],
          "histogram2d": [
           {
            "colorbar": {
             "outlinewidth": 0,
             "ticks": ""
            },
            "colorscale": [
             [
              0,
              "#0d0887"
             ],
             [
              0.1111111111111111,
              "#46039f"
             ],
             [
              0.2222222222222222,
              "#7201a8"
             ],
             [
              0.3333333333333333,
              "#9c179e"
             ],
             [
              0.4444444444444444,
              "#bd3786"
             ],
             [
              0.5555555555555556,
              "#d8576b"
             ],
             [
              0.6666666666666666,
              "#ed7953"
             ],
             [
              0.7777777777777778,
              "#fb9f3a"
             ],
             [
              0.8888888888888888,
              "#fdca26"
             ],
             [
              1,
              "#f0f921"
             ]
            ],
            "type": "histogram2d"
           }
          ],
          "histogram2dcontour": [
           {
            "colorbar": {
             "outlinewidth": 0,
             "ticks": ""
            },
            "colorscale": [
             [
              0,
              "#0d0887"
             ],
             [
              0.1111111111111111,
              "#46039f"
             ],
             [
              0.2222222222222222,
              "#7201a8"
             ],
             [
              0.3333333333333333,
              "#9c179e"
             ],
             [
              0.4444444444444444,
              "#bd3786"
             ],
             [
              0.5555555555555556,
              "#d8576b"
             ],
             [
              0.6666666666666666,
              "#ed7953"
             ],
             [
              0.7777777777777778,
              "#fb9f3a"
             ],
             [
              0.8888888888888888,
              "#fdca26"
             ],
             [
              1,
              "#f0f921"
             ]
            ],
            "type": "histogram2dcontour"
           }
          ],
          "mesh3d": [
           {
            "colorbar": {
             "outlinewidth": 0,
             "ticks": ""
            },
            "type": "mesh3d"
           }
          ],
          "parcoords": [
           {
            "line": {
             "colorbar": {
              "outlinewidth": 0,
              "ticks": ""
             }
            },
            "type": "parcoords"
           }
          ],
          "pie": [
           {
            "automargin": true,
            "type": "pie"
           }
          ],
          "scatter": [
           {
            "fillpattern": {
             "fillmode": "overlay",
             "size": 10,
             "solidity": 0.2
            },
            "type": "scatter"
           }
          ],
          "scatter3d": [
           {
            "line": {
             "colorbar": {
              "outlinewidth": 0,
              "ticks": ""
             }
            },
            "marker": {
             "colorbar": {
              "outlinewidth": 0,
              "ticks": ""
             }
            },
            "type": "scatter3d"
           }
          ],
          "scattercarpet": [
           {
            "marker": {
             "colorbar": {
              "outlinewidth": 0,
              "ticks": ""
             }
            },
            "type": "scattercarpet"
           }
          ],
          "scattergeo": [
           {
            "marker": {
             "colorbar": {
              "outlinewidth": 0,
              "ticks": ""
             }
            },
            "type": "scattergeo"
           }
          ],
          "scattergl": [
           {
            "marker": {
             "colorbar": {
              "outlinewidth": 0,
              "ticks": ""
             }
            },
            "type": "scattergl"
           }
          ],
          "scattermap": [
           {
            "marker": {
             "colorbar": {
              "outlinewidth": 0,
              "ticks": ""
             }
            },
            "type": "scattermap"
           }
          ],
          "scattermapbox": [
           {
            "marker": {
             "colorbar": {
              "outlinewidth": 0,
              "ticks": ""
             }
            },
            "type": "scattermapbox"
           }
          ],
          "scatterpolar": [
           {
            "marker": {
             "colorbar": {
              "outlinewidth": 0,
              "ticks": ""
             }
            },
            "type": "scatterpolar"
           }
          ],
          "scatterpolargl": [
           {
            "marker": {
             "colorbar": {
              "outlinewidth": 0,
              "ticks": ""
             }
            },
            "type": "scatterpolargl"
           }
          ],
          "scatterternary": [
           {
            "marker": {
             "colorbar": {
              "outlinewidth": 0,
              "ticks": ""
             }
            },
            "type": "scatterternary"
           }
          ],
          "surface": [
           {
            "colorbar": {
             "outlinewidth": 0,
             "ticks": ""
            },
            "colorscale": [
             [
              0,
              "#0d0887"
             ],
             [
              0.1111111111111111,
              "#46039f"
             ],
             [
              0.2222222222222222,
              "#7201a8"
             ],
             [
              0.3333333333333333,
              "#9c179e"
             ],
             [
              0.4444444444444444,
              "#bd3786"
             ],
             [
              0.5555555555555556,
              "#d8576b"
             ],
             [
              0.6666666666666666,
              "#ed7953"
             ],
             [
              0.7777777777777778,
              "#fb9f3a"
             ],
             [
              0.8888888888888888,
              "#fdca26"
             ],
             [
              1,
              "#f0f921"
             ]
            ],
            "type": "surface"
           }
          ],
          "table": [
           {
            "cells": {
             "fill": {
              "color": "#EBF0F8"
             },
             "line": {
              "color": "white"
             }
            },
            "header": {
             "fill": {
              "color": "#C8D4E3"
             },
             "line": {
              "color": "white"
             }
            },
            "type": "table"
           }
          ]
         },
         "layout": {
          "annotationdefaults": {
           "arrowcolor": "#2a3f5f",
           "arrowhead": 0,
           "arrowwidth": 1
          },
          "autotypenumbers": "strict",
          "coloraxis": {
           "colorbar": {
            "outlinewidth": 0,
            "ticks": ""
           }
          },
          "colorscale": {
           "diverging": [
            [
             0,
             "#8e0152"
            ],
            [
             0.1,
             "#c51b7d"
            ],
            [
             0.2,
             "#de77ae"
            ],
            [
             0.3,
             "#f1b6da"
            ],
            [
             0.4,
             "#fde0ef"
            ],
            [
             0.5,
             "#f7f7f7"
            ],
            [
             0.6,
             "#e6f5d0"
            ],
            [
             0.7,
             "#b8e186"
            ],
            [
             0.8,
             "#7fbc41"
            ],
            [
             0.9,
             "#4d9221"
            ],
            [
             1,
             "#276419"
            ]
           ],
           "sequential": [
            [
             0,
             "#0d0887"
            ],
            [
             0.1111111111111111,
             "#46039f"
            ],
            [
             0.2222222222222222,
             "#7201a8"
            ],
            [
             0.3333333333333333,
             "#9c179e"
            ],
            [
             0.4444444444444444,
             "#bd3786"
            ],
            [
             0.5555555555555556,
             "#d8576b"
            ],
            [
             0.6666666666666666,
             "#ed7953"
            ],
            [
             0.7777777777777778,
             "#fb9f3a"
            ],
            [
             0.8888888888888888,
             "#fdca26"
            ],
            [
             1,
             "#f0f921"
            ]
           ],
           "sequentialminus": [
            [
             0,
             "#0d0887"
            ],
            [
             0.1111111111111111,
             "#46039f"
            ],
            [
             0.2222222222222222,
             "#7201a8"
            ],
            [
             0.3333333333333333,
             "#9c179e"
            ],
            [
             0.4444444444444444,
             "#bd3786"
            ],
            [
             0.5555555555555556,
             "#d8576b"
            ],
            [
             0.6666666666666666,
             "#ed7953"
            ],
            [
             0.7777777777777778,
             "#fb9f3a"
            ],
            [
             0.8888888888888888,
             "#fdca26"
            ],
            [
             1,
             "#f0f921"
            ]
           ]
          },
          "colorway": [
           "#636efa",
           "#EF553B",
           "#00cc96",
           "#ab63fa",
           "#FFA15A",
           "#19d3f3",
           "#FF6692",
           "#B6E880",
           "#FF97FF",
           "#FECB52"
          ],
          "font": {
           "color": "#2a3f5f"
          },
          "geo": {
           "bgcolor": "white",
           "lakecolor": "white",
           "landcolor": "#E5ECF6",
           "showlakes": true,
           "showland": true,
           "subunitcolor": "white"
          },
          "hoverlabel": {
           "align": "left"
          },
          "hovermode": "closest",
          "mapbox": {
           "style": "light"
          },
          "paper_bgcolor": "white",
          "plot_bgcolor": "#E5ECF6",
          "polar": {
           "angularaxis": {
            "gridcolor": "white",
            "linecolor": "white",
            "ticks": ""
           },
           "bgcolor": "#E5ECF6",
           "radialaxis": {
            "gridcolor": "white",
            "linecolor": "white",
            "ticks": ""
           }
          },
          "scene": {
           "xaxis": {
            "backgroundcolor": "#E5ECF6",
            "gridcolor": "white",
            "gridwidth": 2,
            "linecolor": "white",
            "showbackground": true,
            "ticks": "",
            "zerolinecolor": "white"
           },
           "yaxis": {
            "backgroundcolor": "#E5ECF6",
            "gridcolor": "white",
            "gridwidth": 2,
            "linecolor": "white",
            "showbackground": true,
            "ticks": "",
            "zerolinecolor": "white"
           },
           "zaxis": {
            "backgroundcolor": "#E5ECF6",
            "gridcolor": "white",
            "gridwidth": 2,
            "linecolor": "white",
            "showbackground": true,
            "ticks": "",
            "zerolinecolor": "white"
           }
          },
          "shapedefaults": {
           "line": {
            "color": "#2a3f5f"
           }
          },
          "ternary": {
           "aaxis": {
            "gridcolor": "white",
            "linecolor": "white",
            "ticks": ""
           },
           "baxis": {
            "gridcolor": "white",
            "linecolor": "white",
            "ticks": ""
           },
           "bgcolor": "#E5ECF6",
           "caxis": {
            "gridcolor": "white",
            "linecolor": "white",
            "ticks": ""
           }
          },
          "title": {
           "x": 0.05
          },
          "xaxis": {
           "automargin": true,
           "gridcolor": "white",
           "linecolor": "white",
           "ticks": "",
           "title": {
            "standoff": 15
           },
           "zerolinecolor": "white",
           "zerolinewidth": 2
          },
          "yaxis": {
           "automargin": true,
           "gridcolor": "white",
           "linecolor": "white",
           "ticks": "",
           "title": {
            "standoff": 15
           },
           "zerolinecolor": "white",
           "zerolinewidth": 2
          }
         }
        },
        "title": {
         "text": "Gender Distribution Among Stroke Patients"
        }
       }
      }
     },
     "metadata": {},
     "output_type": "display_data"
    }
   ],
   "source": [
    "stroke_gender = df[df['stroke'] == 1]['gender'].value_counts().reset_index()\n",
    "stroke_gender.columns = ['gender', 'count']\n",
    "fig4 = px.pie(stroke_gender, names='gender', values='count',\n",
    "              title='Gender Distribution Among Stroke Patients')\n",
    "fig4.show()"
   ]
  },
  {
   "cell_type": "markdown",
   "id": "e339c229",
   "metadata": {},
   "source": [
    "**Justification:** Pie charts are effective for showing proportions. Stakeholders can see if one gender is disproportionately affected."
   ]
  },
  {
   "cell_type": "markdown",
   "id": "db7804d9",
   "metadata": {},
   "source": [
    "## Save Visualizations as HTML\n",
    "Export each chart for sharing or dashboard use."
   ]
  },
  {
   "cell_type": "code",
   "execution_count": 9,
   "id": "cee8e7fb",
   "metadata": {},
   "outputs": [
    {
     "name": "stdout",
     "output_type": "stream",
     "text": [
      "✅ All dashboard elements saved as HTML.\n"
     ]
    }
   ],
   "source": [
    "fig1.write_html('stroke_by_work_female.html')\n",
    "fig2.write_html('glucose_by_residence_worktype.html')\n",
    "fig3.write_html('bmi_by_smoking_senior.html')\n",
    "fig4.write_html('stroke_gender.html')\n",
    "print('✅ All dashboard elements saved as HTML.')"
   ]
  },
  {
   "cell_type": "markdown",
   "id": "857a8dc7",
   "metadata": {},
   "source": [
    "---\n",
    "\n",
    "## How Stakeholders Use This Dashboard\n",
    "- **Segment Analysis:** Filter and drill-down to identify high-risk groups or underperforming segments.\n",
    "- **KPI Tracking:** Monitor key metrics (e.g., stroke rate, glucose, BMI) across business dimensions.\n",
    "- **Decision Support:** Use insights to target interventions, allocate resources, or design campaigns.\n",
    "- **Interactivity:** In Power BI/Tableau, filters and slicers make this process seamless; in this notebook, use pandas filters before plotting.\n",
    "\n",
    "This approach can be adapted to any business dataset (sales, customer reviews, etc.) and extended with more KPIs, time series, or advanced analytics."
   ]
  }
 ],
 "metadata": {
  "kernelspec": {
   "display_name": "Python 3",
   "language": "python",
   "name": "python3"
  },
  "language_info": {
   "codemirror_mode": {
    "name": "ipython",
    "version": 3
   },
   "file_extension": ".py",
   "mimetype": "text/x-python",
   "name": "python",
   "nbconvert_exporter": "python",
   "pygments_lexer": "ipython3",
   "version": "3.12.9"
  }
 },
 "nbformat": 4,
 "nbformat_minor": 5
}
